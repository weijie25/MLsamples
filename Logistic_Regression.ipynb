{
 "cells": [
  {
   "cell_type": "markdown",
   "metadata": {},
   "source": [
    "### Logistic regression\n",
    "#### Approaches to be used:\n",
    "\n",
    "__Gradient Descent:__\n",
    "\n",
    "- Randomly initialize $\\theta_0$, $k=0$\n",
    "- Update: while $k \\leq max(iteration)$ and$\\|\\theta^{k-1}-\\theta^{k}\\|_2 > \\epsilon$\n",
    "    - $k \\leftarrow k + 1$\n",
    "    - $\\theta^{k} \\leftarrow \\theta^{k-1} - \\bigtriangledown F(\\theta^{k-1})$\n",
    "- Output $\\hat{\\theta}$"
   ]
  },
  {
   "cell_type": "markdown",
   "metadata": {},
   "source": [
    "__Equations to be used:__\n",
    "Other than the gradient updating equations, the gradient itself is $$\\bigtriangledown F(\\bf{\\theta}) = - \\left(\\bf{X}^\\intercal \\bf{y} - \\bf{X}^\\intercal \\sigma(\\bf{X}\\bf{\\theta})\\right)$$.\n",
    "Where $\\sigma$ is the sigmoid function"
   ]
  },
  {
   "cell_type": "code",
   "execution_count": 53,
   "metadata": {},
   "outputs": [],
   "source": [
    "# Import necessary modules\n",
    "import pandas as pd\n",
    "import numpy as np\n",
    "from matplotlib import pyplot as plt"
   ]
  },
  {
   "cell_type": "code",
   "execution_count": 54,
   "metadata": {},
   "outputs": [],
   "source": [
    "# Shuffle and partition the shuffled data into k=5 different folds\n",
    "\n",
    "def partition(df,k=5):\n",
    "    \n",
    "    # Randomly shuffle the data by sampling and reset index\n",
    "    df_shuffled = df.sample(frac=1).reset_index(drop=True)\n",
    "    ni = int(df.shape[0]/k) # compute the number of rows of each fold\n",
    "\n",
    "    # creat dictionaries\n",
    "    X_shuffled = {}\n",
    "    y_shuffled = {}\n",
    "    \n",
    "    # partition the data\n",
    "    for i in range(1,k+1):\n",
    "        X_shuffled[i], y_shuffled[i] = df_shuffled.iloc[0:ni,0:3], df_shuffled.iloc[0:ni,3]\n",
    "        df_shuffled = df_shuffled.reset_index(drop=True)\n",
    "        df_shuffled = df_shuffled.drop(range(0,ni),axis = 0)\n",
    "        df_shuffled = df_shuffled.reset_index(drop=True)\n",
    "    \n",
    "    return X_shuffled, y_shuffled"
   ]
  },
  {
   "cell_type": "code",
   "execution_count": 55,
   "metadata": {},
   "outputs": [],
   "source": [
    "def get_next_train_valid(X_shuffled, y_shuffled, itr):\n",
    "    \n",
    "    X_valid, y_valid = X_shuffled[itr], y_shuffled[itr] # select the itr fold for validation\n",
    "    \n",
    "    # Creat new dictionaries to store data for training\n",
    "    X_for_train = {n: X_shuffled[n] for n in range(1,6) if n!=itr}\n",
    "    y_for_train = {n: y_shuffled[n] for n in range(1,6) if n!=itr}\n",
    "    \n",
    "    # Concatenate the rest of folds for training\n",
    "    X_train,y_train = pd.concat(X_for_train.values()), pd.concat(y_for_train.values())\n",
    "    \n",
    "    return X_train, y_train, X_valid, y_valid"
   ]
  },
  {
   "cell_type": "code",
   "execution_count": 56,
   "metadata": {},
   "outputs": [],
   "source": [
    "# Define some functions to compute loss\n",
    "\n",
    "# Sigmoid function\n",
    "def sigmoid(x):\n",
    "    return 1/(1+np.exp(-x))\n",
    "\n",
    "# Gradient \n",
    "def gradient(theta,X,y):\n",
    "    n = X.shape[0]\n",
    "    c1 = X@theta\n",
    "    c2 = X.T @ y - (X.T@sigmoid(c1))\n",
    "    return -c2/n"
   ]
  },
  {
   "cell_type": "code",
   "execution_count": 57,
   "metadata": {},
   "outputs": [],
   "source": [
    "# Training function\n",
    "def train(X_train, y_train,theta,eta=0.001,iters=1000):\n",
    "    \n",
    "    # Gradient descent\n",
    "    #for i in range(iters):\n",
    "    i = -1\n",
    "    theta0 = theta\n",
    "    \n",
    "    while i<=iters and np.linalg.norm(theta1-theta0,2)>1e-5:\n",
    "        \n",
    "        i+=1\n",
    "        theta = theta0 - eta*gradient(theta0,X_train,y_train)\n",
    "        theta0 = theta\n",
    "        \n",
    "    return theta0"
   ]
  },
  {
   "cell_type": "code",
   "execution_count": 58,
   "metadata": {},
   "outputs": [],
   "source": [
    "# Define the predicting function\n",
    "\n",
    "def predict(X_valid, theta):\n",
    "    \n",
    "    labels = sigmoid(X_valid@theta) >= 0.5\n",
    "    y_pre = np.multiply(labels,1)\n",
    "    \n",
    "    return y_pre"
   ]
  },
  {
   "cell_type": "code",
   "execution_count": 59,
   "metadata": {},
   "outputs": [],
   "source": [
    "# Define the function for computing error\n",
    "def error(y_predict,y_valid):\n",
    "    \n",
    "    err = sum((y_predict != y_valid))\n",
    "    \n",
    "    return err\n"
   ]
  },
  {
   "cell_type": "code",
   "execution_count": 60,
   "metadata": {},
   "outputs": [],
   "source": [
    "# Integrate the above functions\n",
    "\n",
    "# Import data \n",
    "df_feature = pd.read_csv(\"IRISFeat.csv\",header=None)\n",
    "df_label = pd.read_csv(\"IRISlabel.csv\",header=None)\n",
    "# Including an intercept into the data\n",
    "one = pd.DataFrame([1]*df_feature.shape[0])\n",
    "df = pd.concat([one,df_feature,df_label],axis=1)\n",
    "df.columns = ['x0','x1','x2','y']\n",
    "\n",
    "\n",
    "while True:\n",
    "    \n",
    "    # Shuffle and partition data for 5-folds cross-validation\n",
    "    X_shuffled, y_shuffled = partition(df, k=5)\n",
    "    \n",
    "    # Initialize randomly\n",
    "    theta0 = np.random.normal(size = (3,))\n",
    "    \n",
    "    \n",
    "    # Cross-validation on training data\n",
    "    err_train = []\n",
    "    err_test = []\n",
    "    \n",
    "    hyper = np.random.uniform(0.001,0.05,100)\n",
    "    hyper.sort()\n",
    "    \n",
    "    for eta in hyper:\n",
    "        inner_err_train = []\n",
    "        inner_err_test = []\n",
    "        for itr in range(1,6):\n",
    "            \n",
    "            X_train,y_train, X_valid, y_valid = get_next_train_valid(X_shuffled,y_shuffled,itr)\n",
    "            X_train, y_train,X_valid, y_valid = np.array(X_train), np.array(y_train),np.array(X_valid), np.array(y_valid)\n",
    "            \n",
    "            theta1 = train(X_train,y_train,theta=theta0,eta=eta,iters=1000)\n",
    "            \n",
    "            y_predict_test = predict(X_valid,theta1)\n",
    "            y_predict_train = predict(X_train,theta1)\n",
    "            \n",
    "            inner_err_test.append(error(y_predict_test, y_valid))\n",
    "            inner_err_train.append(error(y_predict_train, y_train))\n",
    "            \n",
    "        err_train.append(sum(inner_err_train)/5)\n",
    "        err_test.append(sum(inner_err_test)/5)\n",
    "        \n",
    "    break\n",
    "    "
   ]
  },
  {
   "cell_type": "code",
   "execution_count": 61,
   "metadata": {},
   "outputs": [
    {
     "data": {
      "text/plain": [
       "<matplotlib.legend.Legend at 0x1b7026d3080>"
      ]
     },
     "execution_count": 61,
     "metadata": {},
     "output_type": "execute_result"
    },
    {
     "data": {
      "image/png": "[encoded data removed]",
      "text/plain": [
       "<Figure size 432x288 with 1 Axes>"
      ]
     },
     "metadata": {},
     "output_type": "display_data"
    }
   ],
   "source": [
    "# Plot the testing errors\n",
    "plt.plot(hyper,err_test,label = 'test')\n",
    "plt.ylabel('mean error')\n",
    "plt.xlabel('learning rate')\n",
    "plt.legend()"
   ]
  },
  {
   "cell_type": "code",
   "execution_count": 62,
   "metadata": {},
   "outputs": [
    {
     "data": {
      "text/plain": [
       "<matplotlib.legend.Legend at 0x1b702700160>"
      ]
     },
     "execution_count": 62,
     "metadata": {},
     "output_type": "execute_result"
    },
    {
     "data": {
      "image/png": "[encoded data removed]",
      "text/plain": [
       "<Figure size 432x288 with 1 Axes>"
      ]
     },
     "metadata": {},
     "output_type": "display_data"
    }
   ],
   "source": [
    "# Plot the training errors\n",
    "plt.plot(hyper,err_train,label = 'train')\n",
    "plt.ylabel('mean error')\n",
    "plt.xlabel('learning rate')\n",
    "plt.legend()"
   ]
  },
  {
   "cell_type": "markdown",
   "metadata": {},
   "source": [
    "- From both the training and testing errors we can see that choose learning rate around 0.03 is ideal. \n",
    "- If learning rate is too large the gradient descent algorithm might not easily converge."
   ]
  }
 ],
 "metadata": {
  "kernelspec": {
   "display_name": "Python 3",
   "language": "python",
   "name": "python3"
  },
  "language_info": {
   "codemirror_mode": {
    "name": "ipython",
    "version": 3
   },
   "file_extension": ".py",
   "mimetype": "text/x-python",
   "name": "python",
   "nbconvert_exporter": "python",
   "pygments_lexer": "ipython3",
   "version": "3.6.5"
  }
 },
 "nbformat": 4,
 "nbformat_minor": 2
}
