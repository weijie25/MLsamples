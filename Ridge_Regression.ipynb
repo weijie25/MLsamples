{
 "cells": [
  {
   "cell_type": "markdown",
   "metadata": {},
   "source": [
    "### Ridge Regression"
   ]
  },
  {
   "cell_type": "markdown",
   "metadata": {},
   "source": [
    "#### Approaches used\n",
    "- Estimate weights by solving ERM $\\bf{w} = (A^\\intercal A + \\lambda \\bf{I})^{-1} A^\\intercal \\bf{b}$.\n",
    "- Estimate intercept by $w_0 = \\bf\\bar{Y} - \\bf{w}^\\intercal \\bf{\\bar{X}} $\n",
    "- Calculte RMSE by $RMSE = \\frac{\\sum(\\bf{Y}-\\bf{\\hat{Y}})^2}{n_i}$, where $n_i$ is the number of observations for either validation or training dataset."
   ]
  },
  {
   "cell_type": "markdown",
   "metadata": {},
   "source": [
    "#### Implementing Ridge regression"
   ]
  },
  {
   "cell_type": "code",
   "execution_count": 72,
   "metadata": {},
   "outputs": [],
   "source": [
    "# Import necessary modules\n",
    "import pandas as pd\n",
    "import numpy as np\n",
    "from matplotlib import pyplot as plt"
   ]
  },
  {
   "cell_type": "code",
   "execution_count": 84,
   "metadata": {},
   "outputs": [],
   "source": [
    "# Define standardization function\n",
    "def standardize(X):\n",
    "    mu,sd = np.average(X,axis = 0), np.std(X,axis = 0)\n",
    "    X0 = (X - np.array([mu,]*X.shape[0])) / np.array([sd,]*X.shape[0])\n",
    "    return X0"
   ]
  },
  {
   "cell_type": "code",
   "execution_count": 85,
   "metadata": {},
   "outputs": [],
   "source": [
    "# Shuffle and partition the shuffled data into k=5 different folds\n",
    "\n",
    "def partition(k,df):\n",
    "    \n",
    "    # Randomly shuffle the data by sampling and reset index\n",
    "    df_shuffled = df.sample(frac=1).reset_index(drop=True)\n",
    "    ni = int(df.shape[0]/k) # compute the number of rows of each fold\n",
    "\n",
    "    # creat dictionaries\n",
    "    X_shuffled = {}\n",
    "    y_shuffled = {}\n",
    "    \n",
    "    # partition the data\n",
    "    for i in range(1,k+1):\n",
    "        X_shuffled[i], y_shuffled[i] = df_shuffled.iloc[0:ni,0:13], df_shuffled.iloc[0:ni,13]\n",
    "        df_shuffled = df_shuffled.reset_index(drop=True)\n",
    "        df_shuffled = df_shuffled.drop(range(0,ni),axis = 0)\n",
    "        df_shuffled = df_shuffled.reset_index(drop=True)\n",
    "    \n",
    "    return X_shuffled, y_shuffled"
   ]
  },
  {
   "cell_type": "code",
   "execution_count": 86,
   "metadata": {},
   "outputs": [],
   "source": [
    "def get_next_train_valid(X_shuffled, y_shuffled, itr):\n",
    "    \n",
    "    X_valid, y_valid = X_shuffled[itr], y_shuffled[itr] # select the itr fold for validation\n",
    "    \n",
    "    # Creat new dictionaries to store data for training\n",
    "    X_for_train = {n: X_shuffled[n] for n in range(1,6) if n!=itr}\n",
    "    y_for_train = {n: y_shuffled[n] for n in range(1,6) if n!=itr}\n",
    "    \n",
    "    # Concatenate the rest of folds for training\n",
    "    X_train,y_train = pd.concat(X_for_train.values()), pd.concat(y_for_train.values())\n",
    "    \n",
    "    return X_train, y_train, X_valid, y_valid"
   ]
  },
  {
   "cell_type": "code",
   "execution_count": 97,
   "metadata": {},
   "outputs": [],
   "source": [
    "# Define training model with implementation of Ridge regression solution\n",
    "\n",
    "def train(X_train,y_train,lam):\n",
    "    \n",
    "    # Convert panda df to numpy arrays\n",
    "    A = np.array(X_train)\n",
    "    I = np.diag(np.repeat(1,X_train.shape[1]))\n",
    "    b = np.array(y_train)\n",
    "    \n",
    "    carr = A.T@A + lam*I\n",
    "    weights = np.linalg.inv(carr)@A.T@b\n",
    "    intercept = np.average(b)\n",
    "    #intercept = np.average(b) - weights.T@np.average(A,axis=0)\n",
    "    return weights, intercept"
   ]
  },
  {
   "cell_type": "code",
   "execution_count": 89,
   "metadata": {},
   "outputs": [],
   "source": [
    "# Define predicting function\n",
    "def predict(X_valid,model_weights, model_intercept):\n",
    "    \n",
    "    ni = X_valid.shape[0]\n",
    "    y_predict = np.array([model_intercept]*ni) + X_valid @ model_weights\n",
    "    \n",
    "    return y_predict"
   ]
  },
  {
   "cell_type": "code",
   "execution_count": 106,
   "metadata": {},
   "outputs": [],
   "source": [
    "# Integrate the functions above\n",
    "\n",
    "# Import data\n",
    "df = np.array(pd.read_csv(\"Housing.csv\"))\n",
    "df[:,0:13] = standardize(df[:,0:13])\n",
    "df = pd.DataFrame(df)\n",
    "\n",
    "while True:\n",
    "    \n",
    "    k=5 # specify the number of folds\n",
    "    \n",
    "    # randomly shuffle and partition data into k folds and store in dictionary\n",
    "    X_shuffled, y_shuffled = partition(k,df)\n",
    "    \n",
    "    \n",
    "    # Creat lists to store the mean RMSE\n",
    "    mRMSE_train = []\n",
    "    mRMSE_valid = []\n",
    "    lamd = []\n",
    "    \n",
    "    # Cross validation by using different lambdas\n",
    "    for lam in range(0,101,1):\n",
    "        \n",
    "        RMSE_train = [] # to store the rmse in each step\n",
    "        RMSE_valid = []\n",
    "        lamd.append(lam)\n",
    "        \n",
    "        for itr in range(1,6):\n",
    "            \n",
    "            X_train, y_train, X_valid, y_valid = get_next_train_valid(X_shuffled, y_shuffled, itr)\n",
    "            X_train, y_train,X_valid, y_valid = np.array(X_train), np.array(y_train),np.array(X_valid), np.array(y_valid)\n",
    "            model_weights, model_intercept = train(X_train,y_train,lam)\n",
    "            y_predict_valid = predict(X_valid,model_weights, model_intercept)\n",
    "            y_predict_train = predict(X_train, model_weights, model_intercept)\n",
    "            \n",
    "            # Store training and testing MSE\n",
    "            RMSE_train.append((np.sum((y_predict_train - np.array(y_train))**2))/404)\n",
    "            RMSE_valid.append((np.sum((y_predict_valid- np.array(y_valid))**2))/101)\n",
    "            \n",
    "        #Compute the mean RMSE \n",
    "        mRMSE_train.append(np.average(RMSE_train))\n",
    "        mRMSE_valid.append(np.average(RMSE_valid))\n",
    "        \n",
    "    break"
   ]
  },
  {
   "cell_type": "markdown",
   "metadata": {},
   "source": [
    "#### Mean RMSE and plot"
   ]
  },
  {
   "cell_type": "code",
   "execution_count": null,
   "metadata": {},
   "outputs": [],
   "source": [
    "# Mean RMSE for training and valiation\n",
    "print(mRMSE_train)\n",
    "print(mRMSE_valid)"
   ]
  },
  {
   "cell_type": "code",
   "execution_count": 107,
   "metadata": {},
   "outputs": [
    {
     "data": {
      "text/plain": [
       "<matplotlib.legend.Legend at 0x1fc1ee7fc50>"
      ]
     },
     "execution_count": 107,
     "metadata": {},
     "output_type": "execute_result"
    },
    {
     "data": {
      "image/png": "[encoded data removed]",
      "text/plain": [
       "<Figure size 432x288 with 1 Axes>"
      ]
     },
     "metadata": {},
     "output_type": "display_data"
    }
   ],
   "source": [
    "# Plot training mean RMSE vs. Lambda \n",
    "plt.plot(lamd,mRMSE_train,linestyle = 'dashed',label = 'train')\n",
    "#plt.plot(lamd,mRMSE_valid,label = 'valid')\n",
    "plt.ylabel('mean RMSE')\n",
    "plt.xlabel('Lambda')\n",
    "plt.legend()"
   ]
  },
  {
   "cell_type": "code",
   "execution_count": 108,
   "metadata": {},
   "outputs": [
    {
     "data": {
      "text/plain": [
       "<matplotlib.legend.Legend at 0x1fc1eed1400>"
      ]
     },
     "execution_count": 108,
     "metadata": {},
     "output_type": "execute_result"
    },
    {
     "data": {
      "image/png": "[encoded data removed]",
      "text/plain": [
       "<Figure size 432x288 with 1 Axes>"
      ]
     },
     "metadata": {},
     "output_type": "display_data"
    }
   ],
   "source": [
    "# Plot testing mean RMSE vs. Lambda \n",
    "plt.plot(lamd,mRMSE_valid,label = 'valid')\n",
    "plt.ylabel('mean RMSE')\n",
    "plt.xlabel('Lambda')\n",
    "plt.legend()"
   ]
  },
  {
   "cell_type": "markdown",
   "metadata": {},
   "source": [
    "- From the training errors we can see by increasing the value of $\\lambda$ we introduced some bias into our estimation. \n",
    "- The testing error firstly decreased and then kept increased. \n",
    "- This might suggest that we have some over-fitting issues in the model. We can choose the lambda which gives the smallest error."
   ]
  }
 ],
 "metadata": {
  "kernelspec": {
   "display_name": "Python 3",
   "language": "python",
   "name": "python3"
  },
  "language_info": {
   "codemirror_mode": {
    "name": "ipython",
    "version": 3
   },
   "file_extension": ".py",
   "mimetype": "text/x-python",
   "name": "python",
   "nbconvert_exporter": "python",
   "pygments_lexer": "ipython3",
   "version": "3.6.5"
  }
 },
 "nbformat": 4,
 "nbformat_minor": 2
}
