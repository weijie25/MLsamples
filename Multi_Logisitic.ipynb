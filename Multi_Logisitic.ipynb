{
 "cells": [
  {
   "cell_type": "markdown",
   "metadata": {},
   "source": [
    "### Multi-Response Logistic Regression "
   ]
  },
  {
   "cell_type": "markdown",
   "metadata": {},
   "source": [
    "#### Cross-entropy loss\n",
    "$$H(p,q) = -\\sum_{j=1}^k p_j \\ln(q_j)$$\n",
    "where k is the number of classes"
   ]
  },
  {
   "cell_type": "markdown",
   "metadata": {},
   "source": [
    "#### Encode\n",
    "Encode each lable $j \\in {1,...,k}$ as $\\tilde y_j = \\mathbf{e}_j = (0,0,...,1,0,...,0)^T$ (jth coordinate being 1) <br>\n",
    "Give real-value function $f: \\mathbb{R}^d \\rightarrow \\mathbb{R}^k$, the predictor $\\hat f$ predicts $j \\in Y$ with probability $\\dfrac{\\exp(f(x)_j)}{\\sum_{j=1}^k \\exp(f(x)_j)}$, i.e. $\\hat f: \\mathbb{R}^d \\rightarrow \\Delta_k$ <br>\n",
    "Hence the loss \n",
    "$$l(\\tilde y_i, f(x)) = -\\sum_{j=1}^k \\tilde y_i \\ln(\\dfrac{\\exp(f(x)_j)}{\\sum_{j=1}^k \\exp(f(x)_j)})\n",
    "= -f(x)_y + \\ln(\\sum_{j=1}^k \\exp(f(x)_j))$$\n",
    "where y indicates the true lable of example $y_i$"
   ]
  },
  {
   "cell_type": "markdown",
   "metadata": {},
   "source": [
    "#### Margin\n",
    "$$ f(x)_y - \\underset{j\\ne y}{max} \\: f(x)_j$$\n",
    "Also we have \n",
    "$$l(\\tilde y_i, f(x)) \\approx -f(x)_y + \\max_{j} f(x)_j$$\n",
    "which means minimizing the loss is approximately maximizing the margin."
   ]
  },
  {
   "cell_type": "markdown",
   "metadata": {},
   "source": [
    "#### Stochastic Gradient Descent\n",
    "Randomly select a mini-batch $B = \\{ (x_i,y_i)\\}$, $i = 1,...,b$, and calculate the empirical gradient on B. <br>\n",
    "$$\\mathbb{E} [\\dfrac{1}{b} \\sum_{i \\in B} \\nabla_\\theta l(y_i, F(x_i,\\theta^t))] = \\nabla_\\theta \\hat R (\\theta^t)$$\n",
    "Unbiased\n"
   ]
  },
  {
   "cell_type": "code",
   "execution_count": 265,
   "metadata": {},
   "outputs": [],
   "source": [
    "import pandas as pd\n",
    "import numpy as np\n",
    "from matplotlib import pyplot as plt"
   ]
  },
  {
   "cell_type": "code",
   "execution_count": 83,
   "metadata": {},
   "outputs": [],
   "source": [
    "def softmax(y_linear):\n",
    "    exp = np.exp((y_linear-np.max(y_linear,axis=1).reshape(-1,1)))\n",
    "    norms = np.sum(exp,axis=1).reshape(-1,1)\n",
    "    \n",
    "    return exp/norms"
   ]
  },
  {
   "cell_type": "code",
   "execution_count": 196,
   "metadata": {},
   "outputs": [],
   "source": [
    "def model(X,W,b):\n",
    "    y_linear = np.dot(X,W)+b\n",
    "    y_hat = softmax(y_linear)\n",
    "    return y_hat"
   ]
  },
  {
   "cell_type": "code",
   "execution_count": 116,
   "metadata": {},
   "outputs": [],
   "source": [
    "def cross_entropy(y_hat,y):\n",
    "    return -np.sum(y*np.log(y_hat+1e-6))"
   ]
  },
  {
   "cell_type": "code",
   "execution_count": 43,
   "metadata": {},
   "outputs": [],
   "source": [
    "def hot_vector(y,n,k):\n",
    "    Y_til = np.zeros((n,k))\n",
    "    for i in range(n):\n",
    "        Y_til[i,y[i]] = 1\n",
    "    \n",
    "    return Y_til\n",
    "        "
   ]
  },
  {
   "cell_type": "code",
   "execution_count": 197,
   "metadata": {},
   "outputs": [],
   "source": [
    "def gradient(X,y,W,b):\n",
    "    \n",
    "    n,d = X.shape\n",
    "    k = W.shape[1]\n",
    "    # Convert y to hot-vectors with dimension n_sample x n_classes\n",
    "    Y_tilde =  hot_vector(y,n,k)\n",
    "    \n",
    "    # Calculate gradient\n",
    "    # f(x)_y\n",
    "    part1 = X.T @ Y_tilde\n",
    "    \n",
    "    # Find max_j exp(f(x))_j\n",
    "    fx = X@W\n",
    "    max_value = fx.max(axis=1).reshape(-1,1)\n",
    "    max_j = np.nonzero(fx==max_value)[1]\n",
    "    max_j_tilde = hot_vector(max_j,n,k)\n",
    "    part2 = X.T @ max_j_tilde\n",
    "    \n",
    "    gradW = -part1+part2\n",
    "    gradb = np.repeat(1,k)\n",
    "    \n",
    "    return gradW,gradb"
   ]
  },
  {
   "cell_type": "code",
   "execution_count": 198,
   "metadata": {},
   "outputs": [],
   "source": [
    "def multi_logistic_train(df_train,W0,b0,batchsize,eta=0.005):\n",
    "    \n",
    "    # Sample a mini-batch\n",
    "    df_train_shuffled = df_train.sample(frac=1)\n",
    "    X_train, y_train = np.array(df_train.iloc[:,1:]), np.array(df_train.iloc[:,0])\n",
    "    #X_train = X_train/255\n",
    "    \n",
    "    for i in range(0,df_train_shuffled.shape[0], batchsize):\n",
    "        X_mini = X_train[i:i+batchsize]\n",
    "        y_mini = y_train[i:i+batchsize]\n",
    "        \n",
    "        gW,gb = gradient(X=X_mini, y=y_mini, W=W0, b=b0)\n",
    "        \n",
    "        W1 = W0 - eta*gW\n",
    "        b1 = gb - eta*gb\n",
    "    \n",
    "    return W1, b1"
   ]
  },
  {
   "cell_type": "code",
   "execution_count": 204,
   "metadata": {},
   "outputs": [],
   "source": [
    "def multi_logistic_predict(df_test, W1,b1):\n",
    "    X_test, y_test = np.array(df_test.iloc[:,1:]), np.array(df_test.iloc[:,0])\n",
    "    y_hat = model(X_test,W1,b1)\n",
    "    \n",
    "    max_j = np.nonzero(y_hat == y_hat.max(axis=1).reshape(-1,1))[1]\n",
    "    y_predict = max_j.reshape(-1,1)\n",
    "    \n",
    "    return y_predict"
   ]
  },
  {
   "cell_type": "code",
   "execution_count": 253,
   "metadata": {},
   "outputs": [],
   "source": [
    "\"\"\"putting everything together\"\"\"\n",
    "\n",
    "if __name__ == '__main__':\n",
    "    \n",
    "    # Load data\n",
    "    df_train = pd.read_csv(\"mnist_train.csv\",header = None)\n",
    "    df_test = pd.read_csv(\"mnist_test.csv\",header = None)\n",
    "\n",
    "    # Get data information\n",
    "    n_train, d = df_train.iloc[:,1:].shape\n",
    "    n_test = df_test.shape[0]\n",
    "    k = len(np.unique(df_train.iloc[:,0]))\n",
    "\n",
    "    # Tune minibatch\n",
    "    # After tuning (not shown here), choose the best value of hyperparameters:\n",
    "    batchsize = 3000\n",
    "    epoch = 60\n",
    "    eta = 0.001\n",
    "    # Initial loss\n",
    "    loss = []\n",
    "    y_test = df_test.iloc[:,0]\n",
    "    y_tild = hot_vector(y_test,n_test, k)\n",
    "    y_init = multi_logistic_predict(df_test,W0,b0)\n",
    "    y_init_tild = hot_vector(y_init, n_test, k)\n",
    "    loss.append(cross_entropy(y_hat = y_init_tild, y = y_tild))\n",
    "\n",
    "    # Training\n",
    "    Err = []\n",
    "    np.random.seed(1)\n",
    "    W0 = np.random.normal(size =(d,k))\n",
    "    b0 = np.random.normal(size=(k,))\n",
    "    \n",
    "    for i in range(epoch):\n",
    "\n",
    "        W1,b1 = multi_logistic_train(df_train,W0, b0, batchsize, eta)\n",
    "\n",
    "        y_predict = multi_logistic_predict(df_test,W1,b1)\n",
    "        y_predict_tild = hot_vector(y_predict,n_test, k)\n",
    "        loss.append(cross_entropy(y_tild,y_predict_tild))\n",
    "        err = np.sum(np.ravel(y_predict)!=y_test)/y_predict.shape[0]\n",
    "        Err.append(err)\n",
    "\n",
    "        if np.linalg.norm(W0-W1,2)<1e-76:\n",
    "            break\n",
    "\n",
    "        W0,b0 = W1,b1\n",
    "        \n",
    "    # Save the weights and bias\n",
    "    np.save(\"hw2_multi_logistic_weights.npy\",arr=W1)\n",
    "    np.save(\"hw2_multi_logistic_bias.npy\",arr=b1)\n",
    "    \n",
    "    # Load the weights and bias\n",
    "    weights = np.load(\"hw2_multi_logistic_weights.npy\")\n",
    "    bias = np.load(\"hw2_multi_logistic_bias.npy\")"
   ]
  },
  {
   "cell_type": "code",
   "execution_count": null,
   "metadata": {},
   "outputs": [],
   "source": [
    "if __name__ == '__main__':\n",
    "    # Plot error rate\n",
    "    plt.plot(list(range(epoch)),Err)\n",
    "    plt.title(\"Error rate vs epoch\")\n",
    "    plt.savefig(\"hw2_multi_logistic_error\")"
   ]
  },
  {
   "cell_type": "code",
   "execution_count": 308,
   "metadata": {},
   "outputs": [
    {
     "data": {
      "image/png": "[encoded data removed]",
      "text/plain": [
       "<Figure size 432x288 with 1 Axes>"
      ]
     },
     "metadata": {},
     "output_type": "display_data"
    }
   ],
   "source": [
    "if __name__ == '__main__':\n",
    "    # Plot loss\n",
    "    plt.plot(list(range(epoch+1)),np.log(loss))\n",
    "    plt.title(\"Logarithm of loss vs. epoch\")\n",
    "    plt.savefig(\"hw2_multi_logistic_loss\")\n",
    "    "
   ]
  },
  {
   "cell_type": "code",
   "execution_count": 312,
   "metadata": {},
   "outputs": [
    {
     "data": {
      "text/plain": [
       "array([[ 940,    0,    4,    1,    0,   23,    5,    3,    4,    0],\n",
       "       [   0, 1081,   13,    7,    0,    5,    4,    0,   25,    0],\n",
       "       [  10,    6,  892,   31,   16,    4,   14,   20,   39,    0],\n",
       "       [   7,    2,   26,  868,    2,   56,    6,   17,   15,   11],\n",
       "       [   2,    0,    5,    8,  847,    2,   26,    3,   26,   63],\n",
       "       [  17,    5,   11,   54,   18,  678,    9,   17,   76,    7],\n",
       "       [  20,    3,   23,    1,   17,   60,  822,    3,    9,    0],\n",
       "       [   4,   15,   43,    7,    8,    0,    2,  912,   11,   26],\n",
       "       [   9,   13,   27,   40,    8,   53,    8,   16,  781,   19],\n",
       "       [   9,    5,   11,   18,   49,   17,    3,   43,   32,  822]],\n",
       "      dtype=int64)"
      ]
     },
     "execution_count": 312,
     "metadata": {},
     "output_type": "execute_result"
    }
   ],
   "source": [
    "# Confusion matrix\n",
    "import sklearn.metrics as sk\n",
    "matrix = sk.confusion_matrix(np.array(y_test).reshape(-1,1),y_predict)\n",
    "matrix"
   ]
  },
  {
   "cell_type": "code",
   "execution_count": null,
   "metadata": {},
   "outputs": [],
   "source": []
  }
 ],
 "metadata": {
  "kernelspec": {
   "display_name": "Python 3",
   "language": "python",
   "name": "python3"
  },
  "language_info": {
   "codemirror_mode": {
    "name": "ipython",
    "version": 3
   },
   "file_extension": ".py",
   "mimetype": "text/x-python",
   "name": "python",
   "nbconvert_exporter": "python",
   "pygments_lexer": "ipython3",
   "version": "3.6.5"
  }
 },
 "nbformat": 4,
 "nbformat_minor": 2
}
