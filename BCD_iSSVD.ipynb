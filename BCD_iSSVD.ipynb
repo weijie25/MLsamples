{
 "cells": [
  {
   "cell_type": "markdown",
   "metadata": {},
   "source": [
    "### Coordinate descent algorithm\n"
   ]
  },
  {
   "cell_type": "code",
   "execution_count": 1,
   "metadata": {},
   "outputs": [],
   "source": [
    "import numpy as np\n",
    "import pandas as pd\n",
    "from matplotlib import pyplot as plt\n",
    "from sklearn.preprocessing import StandardScaler"
   ]
  },
  {
   "cell_type": "code",
   "execution_count": 2,
   "metadata": {},
   "outputs": [],
   "source": [
    "# Define soft-threshoding\n",
    "\n",
    "def threshold(s,lam):\n",
    "    \n",
    "    \"\"\"\n",
    "    s: l2 norm of the ith row of either X.T@U or XV\n",
    "    lam: lambda_u or lambda_v(s)\n",
    "    \n",
    "    \"\"\"\n",
    "    \n",
    "    if s <= lam:\n",
    "        return 0\n",
    "    else:\n",
    "        return 1-lam/s"
   ]
  },
  {
   "cell_type": "code",
   "execution_count": 39,
   "metadata": {},
   "outputs": [],
   "source": [
    "def ridge(s,lam):\n",
    "    \n",
    "    \"\"\"\n",
    "    Ridge penalty\n",
    "    \"\"\"\n",
    "    \n",
    "    return s/(1+lam)"
   ]
  },
  {
   "cell_type": "code",
   "execution_count": 40,
   "metadata": {},
   "outputs": [],
   "source": [
    "def inner_ridge(X,lam):\n",
    "    n = X.shape[0]\n",
    "    \n",
    "    for i in range(n):\n",
    "        X[i,:] = X[i,:]/(1+lam)\n",
    "        \n",
    "    return X"
   ]
  },
  {
   "cell_type": "code",
   "execution_count": 84,
   "metadata": {},
   "outputs": [],
   "source": [
    "# Get initial valuse by regular SVD\n",
    "def initial_svd(X,X0,k=3, lamv=[0.05]*D,lamu = 0.05):\n",
    "    \n",
    "    U0, s0, V0t = np.linalg.svd(X0)\n",
    "    U0 = U0[:,0:k]\n",
    "    svdeach = list(map(lambda x: np.linalg.svd(x), X))\n",
    "    V0 = list(map(lambda x: x[2].T[:,0:k], svdeach))\n",
    "    \n",
    "    return U0,s0,V0"
   ]
  },
  {
   "cell_type": "code",
   "execution_count": 3,
   "metadata": {},
   "outputs": [],
   "source": [
    "def cost_func(X,U,V,lamv=[0.05]*3,lamu=0.05):\n",
    "    \n",
    "    costv = [lamv[i]*np.sum(np.linalg.norm(V[i],2,axis=1)) for i in range(len(V))]\n",
    "    costu = lamu*np.sum(np.linalg.norm(U,2,axis = 1))\n",
    "    V = np.concatenate(V,axis = 0)\n",
    "    cost = np.linalg.norm((X-U@V.T),'fro') + np.sum(costv)+ costu\n",
    "    \n",
    "    return cost"
   ]
  },
  {
   "cell_type": "code",
   "execution_count": 2,
   "metadata": {},
   "outputs": [],
   "source": [
    "def inner_cd(X,lam):\n",
    "    \n",
    "    n,k = X.shape\n",
    "    X1 = np.zeros([n,k])\n",
    "    \n",
    "    for j in range(n):\n",
    "        xj_norm = np.linalg.norm(X[j,:],2)\n",
    "        if xj_norm <= lam:\n",
    "            X1[j,:] = np.zeros([1,k])\n",
    "        else:\n",
    "            X1[j,:] = (1-lam/xj_norm) * X[j,:]\n",
    "        \n",
    "    #W1 = W / np.sqrt(np.sum(W**2, axis=0))\n",
    "    \n",
    "    \n",
    "    return X1\n",
    "        "
   ]
  },
  {
   "cell_type": "code",
   "execution_count": 3,
   "metadata": {},
   "outputs": [],
   "source": [
    "\"\"\"\n",
    "Beging testing the algorithm at this point\n",
    "\n",
    "\"\"\"\n",
    "# n=50 ; p = 100\n",
    "#np.random.seed(1)\n",
    "#Xdata = np.random.normal(size = (n,p))\n",
    "Xdata = pd.read_csv(\"Xdata_from_r.csv\")\n",
    "del Xdata['Unnamed: 0']"
   ]
  },
  {
   "cell_type": "code",
   "execution_count": 4,
   "metadata": {},
   "outputs": [],
   "source": [
    "scaler = StandardScaler()\n",
    "Xdata_scaled = scaler.fit_transform(Xdata)"
   ]
  },
  {
   "cell_type": "code",
   "execution_count": 5,
   "metadata": {},
   "outputs": [],
   "source": [
    "\"\"\"\n",
    "Initialization\n",
    "\n",
    "\"\"\"\n",
    "U0, s0, V0t = np.linalg.svd(Xdata_scaled)\n",
    "k = 3; lamv = 0.1\n",
    "U0 = U0[:,0:k]\n",
    "V0 = V0t.T[:,0:k]"
   ]
  },
  {
   "cell_type": "code",
   "execution_count": 128,
   "metadata": {},
   "outputs": [],
   "source": [
    "\"\"\"\n",
    "Test w.r.t. V matrix\n",
    "\n",
    "First, thresholding with sj = (X.t@U)j\n",
    "\"\"\"\n",
    "\n",
    "S0 = Xdata_scaled.T @ U0\n",
    "#S0 = V0\n",
    "\n",
    "i=0\n",
    "for r in range(100):\n",
    "\n",
    "    i+=1\n",
    "    \n",
    "    S1 = inner_cd(S0,lamv)\n",
    "    \n",
    "    Sd = np.linalg.norm(S0-S1,2)\n",
    "    \n",
    "    if Sd <= 1e-7:\n",
    "        break\n",
    "\n",
    "    S0 = S1\n",
    "\n"
   ]
  },
  {
   "cell_type": "code",
   "execution_count": 25,
   "metadata": {},
   "outputs": [],
   "source": [
    "S0 = Xdata_scaled.T @ U0"
   ]
  },
  {
   "cell_type": "code",
   "execution_count": 38,
   "metadata": {},
   "outputs": [],
   "source": [
    "S1 = inner_cd(S0,lamv)"
   ]
  },
  {
   "cell_type": "code",
   "execution_count": 39,
   "metadata": {},
   "outputs": [
    {
     "data": {
      "text/plain": [
       "array([[-1.8902083 ,  0.45424022,  2.97390777],\n",
       "       [-1.09087154, -0.49313906, -2.08529238],\n",
       "       [-0.57072419,  0.79221088, -1.21444812],\n",
       "       [ 0.60176625, -0.38008233, -1.97309138],\n",
       "       [-0.44477707,  1.07247868,  0.64330427],\n",
       "       [-1.0286475 , -1.29838138, -0.36063068],\n",
       "       [-0.73890669, -0.26842276,  1.08642185],\n",
       "       [ 2.07237397, -0.97997347, -0.09196375],\n",
       "       [ 0.00971903, -0.22899203, -0.4880624 ],\n",
       "       [ 0.68597594,  0.0436844 , -3.7317324 ],\n",
       "       [ 0.34681126, -0.99599458, -0.70148215],\n",
       "       [-1.86670777, -1.64431748,  0.02257244],\n",
       "       [-1.31076995, -1.83710056,  1.59334637],\n",
       "       [-1.92207648,  1.36094772, -1.13121528],\n",
       "       [-1.19825742, -1.77609434,  0.14813487],\n",
       "       [ 1.71214375,  0.06428659,  1.93740412],\n",
       "       [ 0.43870135, -2.04166078,  2.11983527],\n",
       "       [ 1.16777992, -1.65878531, -1.53574582],\n",
       "       [ 0.15434453, -1.74975258, -0.67468488],\n",
       "       [ 4.01418597,  0.38718715,  0.18118992],\n",
       "       [-1.34580177, -0.16755849, -1.78983665],\n",
       "       [ 0.35480547,  0.28698488,  0.97554911],\n",
       "       [ 0.80973745,  3.0959825 , -0.97948874],\n",
       "       [ 2.51905229, -0.25924194,  0.06246574],\n",
       "       [-0.23572627, -0.69803133, -2.29257228],\n",
       "       [-0.43215506, -1.08809255,  1.37352161],\n",
       "       [-1.62540281,  1.40038737, -2.67828486],\n",
       "       [-0.38587789, -1.29500904,  1.28630372],\n",
       "       [-0.01297151, -1.47066919, -0.30687102],\n",
       "       [-0.67032641,  3.05083048,  0.79592702],\n",
       "       [ 0.17858554,  0.15339449,  0.06364907],\n",
       "       [ 3.69465396, -0.47918469,  0.79255295],\n",
       "       [-3.06935828,  1.92231288,  0.51578249],\n",
       "       [ 0.72550665, -0.20735517, -2.33560415],\n",
       "       [-0.01057698,  0.3682254 ,  0.43379169],\n",
       "       [-1.69341902,  1.8058592 , -1.12934047],\n",
       "       [ 0.22790464,  0.07072065,  1.50570486],\n",
       "       [-1.28185989, -0.66758241,  0.36772979],\n",
       "       [-1.64755574, -1.58737903,  0.93874272],\n",
       "       [-0.95976194,  2.40860639, -0.4062706 ],\n",
       "       [-0.57388774, -0.03100164, -0.2869737 ],\n",
       "       [-0.69945758, -0.65940527, -1.3591494 ],\n",
       "       [ 1.56125018, -1.02640508,  1.81785825],\n",
       "       [ 2.94554007, -1.98816856, -1.3786574 ],\n",
       "       [ 0.20723472, -2.07088288, -3.07919946],\n",
       "       [-1.72642692,  2.02055694, -0.32851654],\n",
       "       [-3.32431467,  0.6022436 , -2.08650846],\n",
       "       [-2.36375836, -0.98108594, -0.88463363],\n",
       "       [ 0.73491521,  2.77474772,  1.28313999],\n",
       "       [ 0.90487679, -1.3760653 ,  0.84722212],\n",
       "       [ 0.1036181 , -1.39775956, -0.09949155],\n",
       "       [-2.04745697, -0.66525965,  2.13600997],\n",
       "       [-0.90391874, -1.80719754, -0.97552503],\n",
       "       [-0.2219231 ,  1.26305275,  1.87573367],\n",
       "       [-1.9396452 , -1.87094472, -0.24357737],\n",
       "       [-2.2139887 , -0.49547246,  1.47297417],\n",
       "       [-0.04090113, -1.23606179, -2.25705154],\n",
       "       [-0.77888717, -1.87627572, -1.68122643],\n",
       "       [-3.06549589, -2.23655089, -0.42673089],\n",
       "       [ 0.00703835,  1.37270535, -0.16205311],\n",
       "       [-0.86498435,  2.10443545, -0.23987727],\n",
       "       [-0.17976045, -2.35476586, -0.18720861],\n",
       "       [-0.3678247 ,  0.19144059, -3.38429416],\n",
       "       [-0.38912327, -0.49037212,  0.70644707],\n",
       "       [-1.26024085, -0.3230539 ,  0.95425206],\n",
       "       [ 0.1303693 ,  1.25871536, -0.27172803],\n",
       "       [ 0.88887635,  1.01715587,  0.9375554 ],\n",
       "       [ 0.76929876,  0.3243359 , -1.46933658],\n",
       "       [ 1.43532905, -1.24411287,  2.07679707],\n",
       "       [-0.11728033, -0.08383687, -0.70448702],\n",
       "       [ 0.06262422, -0.02172827, -0.1029798 ],\n",
       "       [ 0.41297708, -1.06304677,  1.64186295],\n",
       "       [-2.5731118 , -0.92542735,  0.68714115],\n",
       "       [-2.16401364,  0.08202117, -0.86386535],\n",
       "       [-0.10914771, -0.14772126,  0.36223483],\n",
       "       [ 2.20940689, -2.38077574,  1.86509059],\n",
       "       [-0.2775379 , -0.60501528,  0.60710037],\n",
       "       [-0.65681814,  0.6824184 ,  0.61768304],\n",
       "       [-0.42940032,  2.4942388 ,  2.42149256],\n",
       "       [-2.75489574,  1.74801533,  0.49749243],\n",
       "       [-2.33159812,  0.21403185,  0.31907644],\n",
       "       [ 1.03052535,  0.32798057,  1.08889178],\n",
       "       [ 0.9169331 ,  1.56003634, -1.74875193],\n",
       "       [ 0.62476628, -1.49958921,  0.09723353],\n",
       "       [-1.50549171,  0.96832147, -0.0312953 ],\n",
       "       [-0.82337424, -1.67110165,  2.7249624 ],\n",
       "       [ 2.27063111,  0.7056506 , -0.05302315],\n",
       "       [-0.3864394 ,  0.29735809,  0.55312751],\n",
       "       [-2.13031206, -3.18575477, -0.52077997],\n",
       "       [ 2.21347533, -0.7744189 , -0.54094168],\n",
       "       [-0.09717804,  3.12729943,  0.99155701],\n",
       "       [-2.09665832, -0.16164651, -0.78729326],\n",
       "       [ 3.2862962 ,  1.90205294, -1.72317872],\n",
       "       [ 0.18822566, -1.19340616,  3.35173686],\n",
       "       [ 1.43719171,  0.15987234, -1.61795291],\n",
       "       [ 0.54716218,  0.31427463,  1.07101299],\n",
       "       [ 1.15179899,  3.45774235, -0.0843984 ],\n",
       "       [ 1.30472891,  2.47705781,  0.08655873],\n",
       "       [-2.27765124,  0.50574568,  0.97742715],\n",
       "       [ 1.47411629, -3.60174004, -0.74955153]])"
      ]
     },
     "execution_count": 39,
     "metadata": {},
     "output_type": "execute_result"
    }
   ],
   "source": [
    "S1"
   ]
  },
  {
   "cell_type": "code",
   "execution_count": 34,
   "metadata": {},
   "outputs": [],
   "source": [
    "X1 = U0 @ S1.T"
   ]
  },
  {
   "cell_type": "code",
   "execution_count": 35,
   "metadata": {},
   "outputs": [],
   "source": [
    "Sd = np.linalg.norm(S0-S1,2)"
   ]
  },
  {
   "cell_type": "code",
   "execution_count": 36,
   "metadata": {},
   "outputs": [
    {
     "data": {
      "text/plain": [
       "0.5949919786890964"
      ]
     },
     "execution_count": 36,
     "metadata": {},
     "output_type": "execute_result"
    }
   ],
   "source": [
    "Sd"
   ]
  },
  {
   "cell_type": "code",
   "execution_count": 37,
   "metadata": {},
   "outputs": [],
   "source": [
    "S0 = X1.T @ U0 "
   ]
  },
  {
   "cell_type": "code",
   "execution_count": 15,
   "metadata": {},
   "outputs": [],
   "source": [
    "S1_or = np.linalg.qr(S1)[0]"
   ]
  },
  {
   "cell_type": "code",
   "execution_count": null,
   "metadata": {},
   "outputs": [],
   "source": [
    "S1_or"
   ]
  },
  {
   "cell_type": "code",
   "execution_count": 17,
   "metadata": {},
   "outputs": [],
   "source": [
    "V0 = S1_or"
   ]
  },
  {
   "cell_type": "code",
   "execution_count": 22,
   "metadata": {},
   "outputs": [],
   "source": [
    "Z0 = Xdata_scaled @ V0"
   ]
  },
  {
   "cell_type": "code",
   "execution_count": 19,
   "metadata": {},
   "outputs": [],
   "source": [
    "lamu = 0.1"
   ]
  },
  {
   "cell_type": "code",
   "execution_count": 24,
   "metadata": {},
   "outputs": [],
   "source": [
    "i=0\n",
    "for r in range(100):\n",
    "    \n",
    "    i+=1\n",
    "    \n",
    "    Z1 = inner_cd(Z0,lamu)\n",
    "    \n",
    "    Zd = np.linalg.norm(Z0-Z1,2)\n",
    "    \n",
    "    if Zd <= 1e-7:\n",
    "        break\n",
    "\n",
    "    Z0 = Z1"
   ]
  },
  {
   "cell_type": "code",
   "execution_count": 25,
   "metadata": {},
   "outputs": [
    {
     "data": {
      "text/plain": [
       "array([[0., 0., 0.],\n",
       "       [0., 0., 0.],\n",
       "       [0., 0., 0.],\n",
       "       [0., 0., 0.],\n",
       "       [0., 0., 0.],\n",
       "       [0., 0., 0.],\n",
       "       [0., 0., 0.],\n",
       "       [0., 0., 0.],\n",
       "       [0., 0., 0.],\n",
       "       [0., 0., 0.],\n",
       "       [0., 0., 0.],\n",
       "       [0., 0., 0.],\n",
       "       [0., 0., 0.],\n",
       "       [0., 0., 0.],\n",
       "       [0., 0., 0.],\n",
       "       [0., 0., 0.],\n",
       "       [0., 0., 0.],\n",
       "       [0., 0., 0.],\n",
       "       [0., 0., 0.],\n",
       "       [0., 0., 0.],\n",
       "       [0., 0., 0.],\n",
       "       [0., 0., 0.],\n",
       "       [0., 0., 0.],\n",
       "       [0., 0., 0.],\n",
       "       [0., 0., 0.],\n",
       "       [0., 0., 0.],\n",
       "       [0., 0., 0.],\n",
       "       [0., 0., 0.],\n",
       "       [0., 0., 0.],\n",
       "       [0., 0., 0.],\n",
       "       [0., 0., 0.],\n",
       "       [0., 0., 0.],\n",
       "       [0., 0., 0.],\n",
       "       [0., 0., 0.],\n",
       "       [0., 0., 0.],\n",
       "       [0., 0., 0.],\n",
       "       [0., 0., 0.],\n",
       "       [0., 0., 0.],\n",
       "       [0., 0., 0.],\n",
       "       [0., 0., 0.],\n",
       "       [0., 0., 0.],\n",
       "       [0., 0., 0.],\n",
       "       [0., 0., 0.],\n",
       "       [0., 0., 0.],\n",
       "       [0., 0., 0.],\n",
       "       [0., 0., 0.],\n",
       "       [0., 0., 0.],\n",
       "       [0., 0., 0.],\n",
       "       [0., 0., 0.],\n",
       "       [0., 0., 0.]])"
      ]
     },
     "execution_count": 25,
     "metadata": {},
     "output_type": "execute_result"
    }
   ],
   "source": [
    "Z0"
   ]
  },
  {
   "cell_type": "code",
   "execution_count": 78,
   "metadata": {},
   "outputs": [
    {
     "data": {
      "text/plain": [
       "9"
      ]
     },
     "execution_count": 78,
     "metadata": {},
     "output_type": "execute_result"
    }
   ],
   "source": [
    "a = 3\n",
    "b = 5\n",
    "test(a,b)"
   ]
  },
  {
   "cell_type": "code",
   "execution_count": 79,
   "metadata": {},
   "outputs": [
    {
     "data": {
      "text/plain": [
       "5"
      ]
     },
     "execution_count": 79,
     "metadata": {},
     "output_type": "execute_result"
    }
   ],
   "source": [
    "b"
   ]
  },
  {
   "cell_type": "code",
   "execution_count": null,
   "metadata": {},
   "outputs": [],
   "source": []
  },
  {
   "cell_type": "code",
   "execution_count": 70,
   "metadata": {},
   "outputs": [
    {
     "data": {
      "text/plain": [
       "array([[-1.99661093,  0.47981008,  3.14131345],\n",
       "       [-1.18160729, -0.53415704, -2.25874137],\n",
       "       [-0.64397514,  0.89388907, -1.37031936],\n",
       "       [ 0.65914453, -0.4163231 , -2.16122521],\n",
       "       [-0.511794  ,  1.23407475,  0.74023435],\n",
       "       [-1.150002  , -1.45155768, -0.40317602],\n",
       "       [-0.84910703, -0.30845525,  1.2484505 ],\n",
       "       [ 2.2530328 , -1.06540248, -0.09998067],\n",
       "       [ 0.013324  , -0.31392972, -0.66909443],\n",
       "       [ 0.72213218,  0.0459869 , -3.92842359],\n",
       "       [ 0.40157237, -1.153261  , -0.81224539],\n",
       "       [-2.0167799 , -1.77651076,  0.02438713],\n",
       "       [-1.40566481, -1.97009981,  1.70869872],\n",
       "       [-2.06920979,  1.4651271 , -1.21780884],\n",
       "       [-1.3098467 , -1.94149543,  0.16193012],\n",
       "       [ 1.84454322,  0.06925784,  2.0872229 ],\n",
       "       [ 0.46818736, -2.17888495,  2.2623137 ],\n",
       "       [ 1.25957334, -1.78917425, -1.65646322],\n",
       "       [ 0.17074965, -1.93573195, -0.74639643],\n",
       "       [ 4.21306143,  0.40636962,  0.19016664],\n",
       "       [-1.46566235, -0.18248168, -1.94924412],\n",
       "       [ 0.4206928 ,  0.34027794,  1.15670845],\n",
       "       [ 0.85812813,  3.28100135, -1.03802391],\n",
       "       [ 2.71794103, -0.27971008,  0.06739765],\n",
       "       [-0.25530446, -0.75600616, -2.48298135],\n",
       "       [-0.48004486, -1.20867088,  1.52573013],\n",
       "       [-1.72013288,  1.48200332, -2.83437794],\n",
       "       [-0.4272452 , -1.43383806,  1.42419951],\n",
       "       [-0.01469828, -1.66644517, -0.34772179],\n",
       "       [-0.71191748,  3.2401223 ,  0.84531111],\n",
       "       [ 0.32504357,  0.27919334,  0.11584769],\n",
       "       [ 3.88865167, -0.50434556,  0.83416807],\n",
       "       [-3.23716623,  2.02740957,  0.54398135],\n",
       "       [ 0.78462392, -0.22425133, -2.52591881],\n",
       "       [-0.01429405,  0.49763118,  0.58623948],\n",
       "       [-1.81788631,  1.9385909 , -1.21234764],\n",
       "       [ 0.25780364,  0.07999856,  1.70323959],\n",
       "       [-1.45376852, -0.75711105,  0.41704557],\n",
       "       [-1.78080227, -1.71575875,  1.0146638 ],\n",
       "       [-1.0329028 ,  2.59215978, -0.43723138],\n",
       "       [-0.75256103, -0.04065364, -0.37631963],\n",
       "       [-0.78348987, -0.73862571, -1.52243655],\n",
       "       [ 1.6810312 , -1.10515214,  1.95732656],\n",
       "       [ 3.10008913, -2.09248545, -1.45099394],\n",
       "       [ 0.21838662, -2.1823231 , -3.24490013],\n",
       "       [-1.85536601,  2.17146328, -0.35305196],\n",
       "       [-3.49175254,  0.63257718, -2.19160096],\n",
       "       [-2.53834388, -1.05354825, -0.94997204],\n",
       "       [ 0.78166308,  2.95124912,  1.36476039],\n",
       "       [ 1.00259226, -1.52466328,  0.9387116 ],\n",
       "       [ 0.11836673, -1.59671166, -0.11365282],\n",
       "       [-2.18248291, -0.70913228,  2.27687582],\n",
       "       [-0.98448874, -1.96828051, -1.0624776 ],\n",
       "       [-0.24145679,  1.37422679,  2.04083596],\n",
       "       [-2.08300843, -2.00923016, -0.26158068],\n",
       "       [-2.37768621, -0.53210661,  1.58188268],\n",
       "       [-0.04407955, -1.33211602, -2.43244677],\n",
       "       [-0.83796163, -2.01858128, -1.80873853],\n",
       "       [-3.2260529 , -2.35369146, -0.44908115],\n",
       "       [ 0.00805674,  1.57132351, -0.18550075],\n",
       "       [-0.94059889,  2.28839937, -0.26084667],\n",
       "       [-0.19493635, -2.55356199, -0.2030133 ],\n",
       "       [-0.3894005 ,  0.20267008, -3.5828096 ],\n",
       "       [-0.47157328, -0.59427541,  0.85613375],\n",
       "       [-1.41645935, -0.36309941,  1.07254043],\n",
       "       [ 0.15051454,  1.45321761, -0.31371664],\n",
       "       [ 0.99699253,  1.140875  ,  1.05159253],\n",
       "       [ 0.8603422 ,  0.36271976, -1.6432267 ],\n",
       "       [ 1.53732653, -1.33252214,  2.22437862],\n",
       "       [-0.14989959, -0.10715448, -0.90042648],\n",
       "       [ 0.16489341, -0.05721186, -0.27115211],\n",
       "       [ 0.45429374, -1.16940022,  1.80612457],\n",
       "       [-2.75563547, -0.99107254,  0.7358835 ],\n",
       "       [-2.34964546,  0.08905704, -0.93796881],\n",
       "       [-0.16289666, -0.22046545,  0.54061457],\n",
       "       [ 2.32738617, -2.50790588,  1.96468385],\n",
       "       [-0.33915058, -0.73932709,  0.74187506],\n",
       "       [-0.77299013,  0.80311834,  0.72693318],\n",
       "       [-0.45391823,  2.63665495,  2.55975504],\n",
       "       [-2.9218399 ,  1.85394346,  0.52764002],\n",
       "       [-2.52893679,  0.23214679,  0.346082  ],\n",
       "       [ 1.16482385,  0.37072314,  1.23079663],\n",
       "       [ 0.98980769,  1.68402251, -1.88773654],\n",
       "       [ 0.70154539, -1.68387752,  0.1091828 ],\n",
       "       [-1.67367601,  1.07649641, -0.03479142],\n",
       "       [-0.87326209, -1.7723529 ,  2.89006657],\n",
       "       [ 2.46157331,  0.76499026, -0.05748198],\n",
       "       [-0.49125569,  0.37801233,  0.70315564],\n",
       "       [-2.2404735 , -3.35049463, -0.54771024],\n",
       "       [ 2.39742428, -0.83877632, -0.58589617],\n",
       "       [-0.10309961,  3.31786243,  1.05197785],\n",
       "       [-2.28340762, -0.17604436, -0.85741745],\n",
       "       [ 3.44392143,  1.99328376, -1.80582995],\n",
       "       [ 0.19879173, -1.26039812,  3.5398869 ],\n",
       "       [ 1.56965247,  0.1746072 , -1.76707377],\n",
       "       [ 0.63519616,  0.36483889,  1.24333036],\n",
       "       [ 1.21498899,  3.64744102, -0.08902867],\n",
       "       [ 1.39789041,  2.65392707,  0.09273928],\n",
       "       [-2.45773174,  0.54573202,  1.05470657],\n",
       "       [ 1.54850549, -3.78349678, -0.78737659]])"
      ]
     },
     "execution_count": 70,
     "metadata": {},
     "output_type": "execute_result"
    }
   ],
   "source": [
    "S0"
   ]
  },
  {
   "cell_type": "code",
   "execution_count": 38,
   "metadata": {},
   "outputs": [],
   "source": [
    "S0 = Xdata_scaled.T @ U0"
   ]
  },
  {
   "cell_type": "code",
   "execution_count": 40,
   "metadata": {},
   "outputs": [
    {
     "data": {
      "text/plain": [
       "1.189983957378193"
      ]
     },
     "execution_count": 40,
     "metadata": {},
     "output_type": "execute_result"
    }
   ],
   "source": [
    "np.linalg.norm(S0-S1,2)"
   ]
  },
  {
   "cell_type": "code",
   "execution_count": 22,
   "metadata": {},
   "outputs": [
    {
     "data": {
      "text/plain": [
       "array([[ 0., -0., -0.],\n",
       "       [-0.,  0.,  0.],\n",
       "       [ 0., -0., -0.],\n",
       "       [-0., -0.,  0.],\n",
       "       [ 0., -0., -0.],\n",
       "       [-0.,  0., -0.],\n",
       "       [ 0.,  0., -0.],\n",
       "       [-0., -0., -0.],\n",
       "       [-0., -0.,  0.],\n",
       "       [ 0.,  0.,  0.],\n",
       "       [ 0.,  0., -0.],\n",
       "       [-0.,  0.,  0.],\n",
       "       [-0., -0., -0.],\n",
       "       [-0., -0.,  0.],\n",
       "       [ 0., -0.,  0.],\n",
       "       [-0., -0., -0.],\n",
       "       [ 0., -0.,  0.],\n",
       "       [-0., -0., -0.],\n",
       "       [-0., -0., -0.],\n",
       "       [-0., -0., -0.],\n",
       "       [ 0.,  0.,  0.],\n",
       "       [ 0., -0., -0.],\n",
       "       [ 0., -0.,  0.],\n",
       "       [-0.,  0., -0.],\n",
       "       [ 0., -0.,  0.],\n",
       "       [-0.,  0., -0.],\n",
       "       [ 0., -0.,  0.],\n",
       "       [ 0., -0.,  0.],\n",
       "       [ 0.,  0., -0.],\n",
       "       [ 0.,  0., -0.],\n",
       "       [ 0.,  0.,  0.],\n",
       "       [ 0., -0., -0.],\n",
       "       [ 0., -0., -0.],\n",
       "       [-0.,  0., -0.],\n",
       "       [-0.,  0.,  0.],\n",
       "       [ 0., -0.,  0.],\n",
       "       [ 0.,  0.,  0.],\n",
       "       [-0., -0.,  0.],\n",
       "       [-0., -0.,  0.],\n",
       "       [-0., -0.,  0.],\n",
       "       [-0., -0., -0.],\n",
       "       [ 0.,  0., -0.],\n",
       "       [ 0., -0.,  0.],\n",
       "       [ 0., -0.,  0.],\n",
       "       [-0.,  0., -0.],\n",
       "       [-0., -0.,  0.],\n",
       "       [-0.,  0., -0.],\n",
       "       [ 0.,  0.,  0.],\n",
       "       [ 0., -0.,  0.],\n",
       "       [-0., -0., -0.],\n",
       "       [ 0., -0., -0.],\n",
       "       [-0., -0., -0.],\n",
       "       [-0., -0., -0.],\n",
       "       [-0.,  0.,  0.],\n",
       "       [-0.,  0.,  0.],\n",
       "       [ 0., -0.,  0.],\n",
       "       [ 0., -0.,  0.],\n",
       "       [ 0.,  0.,  0.],\n",
       "       [-0.,  0.,  0.],\n",
       "       [-0.,  0.,  0.],\n",
       "       [ 0., -0., -0.],\n",
       "       [ 0., -0.,  0.],\n",
       "       [-0.,  0.,  0.],\n",
       "       [ 0.,  0., -0.],\n",
       "       [-0., -0., -0.],\n",
       "       [ 0.,  0.,  0.],\n",
       "       [ 0., -0.,  0.],\n",
       "       [-0.,  0., -0.],\n",
       "       [ 0., -0., -0.],\n",
       "       [-0.,  0., -0.],\n",
       "       [-0., -0., -0.],\n",
       "       [-0.,  0.,  0.],\n",
       "       [ 0., -0.,  0.],\n",
       "       [ 0., -0.,  0.],\n",
       "       [-0.,  0., -0.],\n",
       "       [-0.,  0., -0.],\n",
       "       [ 0.,  0.,  0.],\n",
       "       [ 0.,  0.,  0.],\n",
       "       [-0., -0., -0.],\n",
       "       [ 0.,  0.,  0.],\n",
       "       [ 0., -0.,  0.],\n",
       "       [ 0., -0., -0.],\n",
       "       [-0.,  0.,  0.],\n",
       "       [-0.,  0.,  0.],\n",
       "       [-0.,  0.,  0.],\n",
       "       [ 0.,  0., -0.],\n",
       "       [-0.,  0.,  0.],\n",
       "       [-0., -0.,  0.],\n",
       "       [-0.,  0.,  0.],\n",
       "       [-0.,  0., -0.],\n",
       "       [ 0.,  0., -0.],\n",
       "       [ 0., -0., -0.],\n",
       "       [ 0.,  0., -0.],\n",
       "       [-0.,  0.,  0.],\n",
       "       [ 0., -0., -0.],\n",
       "       [ 0., -0., -0.],\n",
       "       [ 0.,  0.,  0.],\n",
       "       [ 0.,  0.,  0.],\n",
       "       [-0., -0., -0.],\n",
       "       [ 0.,  0., -0.]])"
      ]
     },
     "execution_count": 22,
     "metadata": {},
     "output_type": "execute_result"
    }
   ],
   "source": [
    "\"\"\"\n",
    "Also, thresholding with sj = V0_j itself\n",
    "\"\"\"\n",
    "\n",
    "inner_cd(V0,lamv)"
   ]
  },
  {
   "cell_type": "code",
   "execution_count": null,
   "metadata": {},
   "outputs": [],
   "source": []
  },
  {
   "cell_type": "code",
   "execution_count": null,
   "metadata": {},
   "outputs": [],
   "source": []
  },
  {
   "cell_type": "code",
   "execution_count": null,
   "metadata": {},
   "outputs": [],
   "source": []
  },
  {
   "cell_type": "code",
   "execution_count": 206,
   "metadata": {},
   "outputs": [],
   "source": [
    "def coordinate_descent(U0,V0,X,X0,lamv=[0.05]*D,lamu = 0.05,iters = 100,eps=1e-3):\n",
    "    \n",
    "#     cost_history=[]\n",
    "#     cost0 = cost_func(X0,U0,V0,lamv,lamu)\n",
    "#     cost_history.append(cost0)\n",
    "    D = len(X)\n",
    "    ud = [1]\n",
    "    vd = [[1,1,1]]\n",
    "    maxdist = 1\n",
    "    r=0\n",
    "#     V0t = np.concatenate(V0,axis=0)\n",
    "#     Xr0 = U0 @ V0t.T\n",
    "    \n",
    "    while maxdist>eps and r<=iters:\n",
    "        r+=1\n",
    "        # Update V\n",
    "        d = -1\n",
    "        V1 = []\n",
    "        tempv1 = []\n",
    "        for Xd in X:\n",
    "            d += 1\n",
    "            V2 = V0[d]\n",
    "            Sd = Xd.T @ U0\n",
    "            tempv = inner_cd(V2,Sd,lamv[d])\n",
    "            tempv1.append(tempv)\n",
    "            \n",
    "            V1.append(tempv / np.sqrt(np.sum(tempv**2, axis=0)))\n",
    "        \n",
    "            \n",
    "        # Updata U\n",
    "        \n",
    "        Vu = np.concatenate(V0,axis=0)\n",
    "        Zd = X0@Vu\n",
    "        tempu1 = inner_cd(U0,Zd,lamu)\n",
    "        u1 = tempu1 / np.sqrt(np.sum(tempu1**2, axis=0))\n",
    "        \n",
    "        ud.append(np.linalg.norm(U0-U1,2))\n",
    "        vd.append([np.linalg.norm(V0[i]-V1[i],2) for i in range(D)])\n",
    "        \n",
    "        U0 = tempu1\n",
    "        V0 = tempv1\n",
    "        \n",
    "#         # convergence by reconstructing\n",
    "#         Xr1 = U0@Vu.T\n",
    "#         maxdist = np.linalg.norm(Xr0-Xr1,2)\n",
    "        \n",
    "        \n",
    "        vm1 = [np.max(vd[i]) for i in range(len(vd))]\n",
    "        vm2 = np.max(vm)\n",
    "        um = np.max(ud)\n",
    "        maxdist = max(um,vm2)\n",
    "#         cost_history.append(cost_func(X0,U0,V0,lamv,lamu))\n",
    "        \n",
    "    \n",
    "    return U0,V0,maxdist\n",
    "            \n",
    "    "
   ]
  },
  {
   "cell_type": "code",
   "execution_count": null,
   "metadata": {},
   "outputs": [],
   "source": [
    "# Example data\n",
    "n=50\n",
    "p = [70,80,100]\n",
    "X = [np.random.normal(size=(n,i)) for i in p]"
   ]
  },
  {
   "cell_type": "code",
   "execution_count": 207,
   "metadata": {},
   "outputs": [],
   "source": [
    "# Initialization\n",
    "\n",
    "X0 = np.concatenate(X,axis = 1)\n",
    "D = len(X)\n",
    "\n",
    "lamv = [0.05]*D\n",
    "lamu = 0.05\n",
    "\n",
    "U0,s0,V0 = initial_svd(X=X,X0=X0,k=3,lamv=lamv,lamu=lamu)\n",
    "\n",
    "\n",
    "eps = 0.001\n",
    "\n",
    "# Updating\n",
    "\n",
    "Un,Vn,maxdist = coordinate_descent(U0=U0,V0=V0,X=X,X0=X0,lamv=lamv,lamu=lamu,iters=100, eps=1e-3)"
   ]
  },
  {
   "cell_type": "code",
   "execution_count": null,
   "metadata": {},
   "outputs": [],
   "source": []
  },
  {
   "cell_type": "code",
   "execution_count": 227,
   "metadata": {},
   "outputs": [],
   "source": [
    "U0,s0,V0 = initial_svd(X=X,X0=X0,k=3,lamv=lamv,lamu=lamu)"
   ]
  },
  {
   "cell_type": "code",
   "execution_count": 231,
   "metadata": {},
   "outputs": [],
   "source": [
    "V0 = np.concatenate(V0,axis=0)"
   ]
  },
  {
   "cell_type": "code",
   "execution_count": 224,
   "metadata": {},
   "outputs": [],
   "source": [
    "import glmnet_python as glm"
   ]
  },
  {
   "cell_type": "code",
   "execution_count": 266,
   "metadata": {},
   "outputs": [],
   "source": [
    "import glmnet_python\n",
    "from glmnet import glmnet\n",
    "import scipy as sp"
   ]
  },
  {
   "cell_type": "code",
   "execution_count": 241,
   "metadata": {},
   "outputs": [],
   "source": [
    "y = np.random.normal(size=(10,20))\n",
    "u0,s0,v0t = np.linalg.svd(y)\n",
    "u0 = u0[:,0:3]\n",
    "v0 = v0t.T[:,0:3]"
   ]
  },
  {
   "cell_type": "code",
   "execution_count": 264,
   "metadata": {},
   "outputs": [
    {
     "data": {
      "text/plain": [
       "(100, 4)"
      ]
     },
     "execution_count": 264,
     "metadata": {},
     "output_type": "execute_result"
    }
   ],
   "source": [
    "# load data from r example\n",
    "x = pd.read_csv(\"xdata.csv\")\n",
    "x = x.iloc[:,1:]\n",
    "y = pd.read_csv(\"ydata.csv\")\n",
    "y = y.iloc[:,1:]"
   ]
  },
  {
   "cell_type": "code",
   "execution_count": 270,
   "metadata": {},
   "outputs": [],
   "source": [
    "x = sp.array(x,dtype=sp.float64)\n",
    "y = sp.array(y,dtype=sp.float64)"
   ]
  },
  {
   "cell_type": "code",
   "execution_count": 271,
   "metadata": {},
   "outputs": [
    {
     "ename": "ValueError",
     "evalue": "loadGlmlib does not currently work for windows",
     "output_type": "error",
     "traceback": [
      "\u001b[1;31m---------------------------------------------------------------------------\u001b[0m",
      "\u001b[1;31mValueError\u001b[0m                                Traceback (most recent call last)",
      "\u001b[1;32m<ipython-input-271-040767595e02>\u001b[0m in \u001b[0;36m<module>\u001b[1;34m()\u001b[0m\n\u001b[1;32m----> 1\u001b[1;33m \u001b[0mmfit\u001b[0m \u001b[1;33m=\u001b[0m \u001b[0mglmnet\u001b[0m\u001b[1;33m(\u001b[0m\u001b[0mx\u001b[0m \u001b[1;33m=\u001b[0m \u001b[0mx\u001b[0m\u001b[1;33m,\u001b[0m \u001b[0my\u001b[0m \u001b[1;33m=\u001b[0m \u001b[0my\u001b[0m\u001b[1;33m,\u001b[0m \u001b[0mfamily\u001b[0m \u001b[1;33m=\u001b[0m \u001b[1;34m'mgaussian'\u001b[0m\u001b[1;33m)\u001b[0m\u001b[1;33m\u001b[0m\u001b[0m\n\u001b[0m",
      "\u001b[1;32mD:\\Anaconda\\lib\\site-packages\\glmnet_python\\glmnet.py\u001b[0m in \u001b[0;36mglmnet\u001b[1;34m(x, y, family, **options)\u001b[0m\n\u001b[0;32m    463\u001b[0m         fit = mrelnet(x, is_sparse, irs, pcs, y, weights, offset, parm, \n\u001b[0;32m    464\u001b[0m                       \u001b[0mnobs\u001b[0m\u001b[1;33m,\u001b[0m \u001b[0mnvars\u001b[0m\u001b[1;33m,\u001b[0m \u001b[0mjd\u001b[0m\u001b[1;33m,\u001b[0m \u001b[0mvp\u001b[0m\u001b[1;33m,\u001b[0m \u001b[0mcl\u001b[0m\u001b[1;33m,\u001b[0m \u001b[0mne\u001b[0m\u001b[1;33m,\u001b[0m \u001b[0mnx\u001b[0m\u001b[1;33m,\u001b[0m \u001b[0mnlam\u001b[0m\u001b[1;33m,\u001b[0m \u001b[0mflmin\u001b[0m\u001b[1;33m,\u001b[0m \u001b[0mulam\u001b[0m\u001b[1;33m,\u001b[0m\u001b[1;33m\u001b[0m\u001b[0m\n\u001b[1;32m--> 465\u001b[1;33m                       thresh, isd, jsd, intr, maxit, family)\n\u001b[0m\u001b[0;32m    466\u001b[0m     \u001b[1;32melif\u001b[0m \u001b[0mfamily\u001b[0m \u001b[1;33m==\u001b[0m \u001b[1;34m'poisson'\u001b[0m\u001b[1;33m:\u001b[0m\u001b[1;33m\u001b[0m\u001b[0m\n\u001b[0;32m    467\u001b[0m         \u001b[1;31m# call fishnet\u001b[0m\u001b[1;33m\u001b[0m\u001b[1;33m\u001b[0m\u001b[0m\n",
      "\u001b[1;32mD:\\Anaconda\\lib\\site-packages\\glmnet_python\\mrelnet.py\u001b[0m in \u001b[0;36mmrelnet\u001b[1;34m(x, is_sparse, irs, pcs, y, weights, offset, parm, nobs, nvars, jd, vp, cl, ne, nx, nlam, flmin, ulam, thresh, isd, jsd, intr, maxit, family)\u001b[0m\n\u001b[0;32m     15\u001b[0m \u001b[1;33m\u001b[0m\u001b[0m\n\u001b[0;32m     16\u001b[0m     \u001b[1;31m# load shared fortran library\u001b[0m\u001b[1;33m\u001b[0m\u001b[1;33m\u001b[0m\u001b[0m\n\u001b[1;32m---> 17\u001b[1;33m     \u001b[0mglmlib\u001b[0m \u001b[1;33m=\u001b[0m \u001b[0mloadGlmLib\u001b[0m\u001b[1;33m(\u001b[0m\u001b[1;33m)\u001b[0m\u001b[1;33m\u001b[0m\u001b[0m\n\u001b[0m\u001b[0;32m     18\u001b[0m \u001b[1;33m\u001b[0m\u001b[0m\n\u001b[0;32m     19\u001b[0m     \u001b[1;31m#\u001b[0m\u001b[1;33m\u001b[0m\u001b[1;33m\u001b[0m\u001b[0m\n",
      "\u001b[1;32mD:\\Anaconda\\lib\\site-packages\\glmnet_python\\loadGlmLib.py\u001b[0m in \u001b[0;36mloadGlmLib\u001b[1;34m()\u001b[0m\n\u001b[0;32m     26\u001b[0m     \u001b[1;32melif\u001b[0m \u001b[0mos\u001b[0m\u001b[1;33m.\u001b[0m\u001b[0mname\u001b[0m \u001b[1;33m==\u001b[0m \u001b[1;34m'nt'\u001b[0m\u001b[1;33m:\u001b[0m\u001b[1;33m\u001b[0m\u001b[0m\n\u001b[0;32m     27\u001b[0m         \u001b[1;31m# this does not currently work\u001b[0m\u001b[1;33m\u001b[0m\u001b[1;33m\u001b[0m\u001b[0m\n\u001b[1;32m---> 28\u001b[1;33m         \u001b[1;32mraise\u001b[0m \u001b[0mValueError\u001b[0m\u001b[1;33m(\u001b[0m\u001b[1;34m'loadGlmlib does not currently work for windows'\u001b[0m\u001b[1;33m)\u001b[0m\u001b[1;33m\u001b[0m\u001b[0m\n\u001b[0m\u001b[0;32m     29\u001b[0m         \u001b[1;31m# glmlib = ctypes.windll.LoadLibrary(glmnet_dll)\u001b[0m\u001b[1;33m\u001b[0m\u001b[1;33m\u001b[0m\u001b[0m\n\u001b[0;32m     30\u001b[0m     \u001b[1;32melse\u001b[0m\u001b[1;33m:\u001b[0m\u001b[1;33m\u001b[0m\u001b[0m\n",
      "\u001b[1;31mValueError\u001b[0m: loadGlmlib does not currently work for windows"
     ]
    }
   ],
   "source": [
    "mfit = glmnet(x = x, y = y, family = 'mgaussian')"
   ]
  },
  {
   "cell_type": "code",
   "execution_count": null,
   "metadata": {},
   "outputs": [],
   "source": []
  },
  {
   "cell_type": "code",
   "execution_count": null,
   "metadata": {},
   "outputs": [],
   "source": []
  },
  {
   "cell_type": "code",
   "execution_count": null,
   "metadata": {},
   "outputs": [],
   "source": []
  },
  {
   "cell_type": "code",
   "execution_count": null,
   "metadata": {},
   "outputs": [],
   "source": [
    "d = -1\n",
    "for Xd in X:\n",
    "    d += 1\n",
    "    glm.glmnet()"
   ]
  }
 ],
 "metadata": {
  "kernelspec": {
   "display_name": "Python 3",
   "language": "python",
   "name": "python3"
  },
  "language_info": {
   "codemirror_mode": {
    "name": "ipython",
    "version": 3
   },
   "file_extension": ".py",
   "mimetype": "text/x-python",
   "name": "python",
   "nbconvert_exporter": "python",
   "pygments_lexer": "ipython3",
   "version": "3.6.5"
  }
 },
 "nbformat": 4,
 "nbformat_minor": 2
}
