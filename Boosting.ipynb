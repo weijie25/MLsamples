{
 "cells": [
  {
   "cell_type": "markdown",
   "metadata": {},
   "source": [
    "### Toy example of Boosting Algorithm"
   ]
  },
  {
   "cell_type": "markdown",
   "metadata": {},
   "source": [
    "#### With knowledge of how test labels look like"
   ]
  },
  {
   "cell_type": "code",
   "execution_count": 36,
   "metadata": {},
   "outputs": [],
   "source": [
    "import numpy as np\n",
    "import pandas as pd\n",
    "from matplotlib import pyplot as plt\n",
    "from test_score import score"
   ]
  },
  {
   "cell_type": "code",
   "execution_count": 185,
   "metadata": {},
   "outputs": [],
   "source": [
    "# Initialize\n",
    "def initial(y,n_learners,sigma=3):\n",
    "    \"\"\"\n",
    "    Initial weak predictors via true value + random noise with mean 0 and variance sigma^2\n",
    "    \"\"\"\n",
    "    learners = []\n",
    "    for n in range(n_learners):\n",
    "        learner = true_values + abs(np.random.normal(0,3,size=(true_values.shape)))\n",
    "        learners.append(np.array(learner).reshape(-1,1))\n",
    "    return learners"
   ]
  },
  {
   "cell_type": "code",
   "execution_count": 228,
   "metadata": {},
   "outputs": [],
   "source": [
    "# Choosing the best combination\n",
    "def choose(y,l1,l2):\n",
    "    \"\"\"\n",
    "    Choose the entries that are closer to true values from two vectors\n",
    "    \"\"\"\n",
    "    d1 = np.abs(y-l1)\n",
    "    d2 = np.abs(y-l2)\n",
    "    \n",
    "    ind1 = d1 <= d2\n",
    "    new = (ind1 * l1 + ~ind1 * l2)\n",
    "    \n",
    "    return new"
   ]
  },
  {
   "cell_type": "code",
   "execution_count": 229,
   "metadata": {},
   "outputs": [],
   "source": [
    "# boosting\n",
    "def boosting(y,learners):\n",
    "    \n",
    "    # initial learner\n",
    "    l0 = learners[0]\n",
    "    del learners[0]\n",
    "    \n",
    "    # first combination\n",
    "    p0 = choose(true_values,l0,learners[0])\n",
    "    del learners[0]\n",
    "    \n",
    "    # Update\n",
    "    for i in range(len(learners)):\n",
    "        p1 = choose(true_values,p0,learners[i])\n",
    "        p0 = p1\n",
    "    \n",
    "    \n",
    "    return score(p0)"
   ]
  },
  {
   "cell_type": "code",
   "execution_count": 230,
   "metadata": {},
   "outputs": [],
   "source": [
    "# Load data\n",
    "true_values = pd.read_csv('true_values.csv',header=-1)\n",
    "ture_values = np.array(true_values)"
   ]
  },
  {
   "cell_type": "code",
   "execution_count": 233,
   "metadata": {},
   "outputs": [],
   "source": [
    "n_learners = [5,15,30,50,70,85,100]\n",
    "scores = []\n",
    "for n in n_learners:\n",
    "    learners = initial(y=true_values, n_learners=n,sigma=3)\n",
    "    s = boosting(true_values,learners=learners.copy())\n",
    "    scores.append(s)"
   ]
  },
  {
   "cell_type": "code",
   "execution_count": 234,
   "metadata": {},
   "outputs": [
    {
     "data": {
      "image/png": "[encoded data removed]",
      "text/plain": [
       "<Figure size 432x288 with 1 Axes>"
      ]
     },
     "metadata": {},
     "output_type": "display_data"
    }
   ],
   "source": [
    "plt.plot(n_learners,scores)\n",
    "plt.xlabel('Number of weak learners')\n",
    "plt.ylabel('Scores')\n",
    "plt.savefig('boosting.png')"
   ]
  }
 ],
 "metadata": {
  "kernelspec": {
   "display_name": "Python 3",
   "language": "python",
   "name": "python3"
  },
  "language_info": {
   "codemirror_mode": {
    "name": "ipython",
    "version": 3
   },
   "file_extension": ".py",
   "mimetype": "text/x-python",
   "name": "python",
   "nbconvert_exporter": "python",
   "pygments_lexer": "ipython3",
   "version": "3.6.5"
  }
 },
 "nbformat": 4,
 "nbformat_minor": 2
}
