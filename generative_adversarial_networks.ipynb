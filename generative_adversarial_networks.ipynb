{
 "cells": [
  {
   "cell_type": "markdown",
   "metadata": {},
   "source": [
    "### Generative Adversarial Networks\n",
    "**Refinements will be made later!"
   ]
  },
  {
   "cell_type": "code",
   "execution_count": 34,
   "metadata": {},
   "outputs": [],
   "source": [
    "import torch\n",
    "from torch import nn, optim\n",
    "from torch.autograd.variable import Variable\n",
    "from torchvision import transforms, datasets\n",
    "import numpy as np\n",
    "from matplotlib import pyplot as plt"
   ]
  },
  {
   "cell_type": "code",
   "execution_count": 35,
   "metadata": {},
   "outputs": [],
   "source": [
    "# Load data\n",
    "def gen_data():\n",
    "    compose = transforms.Compose([transforms.ToTensor()])\n",
    "    out_dit = './dataset'\n",
    "    \n",
    "    return datasets.MNIST(root=out_dit,train='True',transform=compose,download=True)"
   ]
  },
  {
   "cell_type": "code",
   "execution_count": 36,
   "metadata": {},
   "outputs": [],
   "source": [
    "# Define Discriminator\n",
    "\n",
    "class Discriminator(nn.Module):\n",
    "    \n",
    "    def __init__(self):\n",
    "        super(Discriminator, self).__init__()\n",
    "        n_features = 784\n",
    "        n_out = 1\n",
    "        \n",
    "        self.ly1 = nn.Sequential(\n",
    "            nn.Linear(n_features,512),\n",
    "            nn.LeakyReLU(0.2),\n",
    "            nn.Dropout(0.3)\n",
    "        )\n",
    "\n",
    "        self.ly2 = nn.Sequential(\n",
    "            nn.Linear(512,256),\n",
    "            nn.LeakyReLU(0.2),\n",
    "            nn.Dropout(0.3)\n",
    "        )\n",
    "\n",
    "        self.ly3 = nn.Sequential(\n",
    "            nn.Linear(256,n_out),\n",
    "            nn.Sigmoid()\n",
    "        )\n",
    "        \n",
    "    def forward(self,x):\n",
    "        x = self.ly1(x)\n",
    "        x = self.ly2(x)\n",
    "        x = self.ly3(x)\n",
    "        return x        "
   ]
  },
  {
   "cell_type": "code",
   "execution_count": 5,
   "metadata": {},
   "outputs": [],
   "source": [
    "# Define Generator\n",
    "\n",
    "class Generator(nn.Module):\n",
    "    \n",
    "    def __init__(self):\n",
    "        super(Generator,self).__init__()\n",
    "        n_features = 128\n",
    "        n_out = 784\n",
    "        \n",
    "        self.ly1 = nn.Sequential(\n",
    "            nn.Linear(n_features, 256),\n",
    "            nn.LeakyReLU(0.2)\n",
    "        )\n",
    "        \n",
    "        self.ly2 = nn.Sequential(\n",
    "            nn.Linear(256,512),\n",
    "            nn.LeakyReLU(0.2)\n",
    "        )\n",
    "        \n",
    "        self.ly3 = nn.Sequential(\n",
    "            nn.Linear(512,n_out),\n",
    "            nn.Tanh()\n",
    "        )\n",
    "    \n",
    "    def forward(self,x):\n",
    "        x = self.ly1(x)\n",
    "        x = self.ly2(x)\n",
    "        x = self.ly3(x)\n",
    "        return x\n",
    "    \n",
    "    "
   ]
  },
  {
   "cell_type": "code",
   "execution_count": 6,
   "metadata": {},
   "outputs": [],
   "source": [
    "# Define noise function\n",
    "\n",
    "def noise(size):\n",
    "    n = Variable(torch.rand(size,128))\n",
    "    return n"
   ]
  },
  {
   "cell_type": "code",
   "execution_count": 7,
   "metadata": {},
   "outputs": [],
   "source": [
    "# Convert image\n",
    "\n",
    "def image_to_vector(image):\n",
    "    return image.view(image.size(0), 784)\n",
    "\n",
    "def vector_to_image(vector):\n",
    "    return vector.view(vector.size(0),1,28,28)"
   ]
  },
  {
   "cell_type": "code",
   "execution_count": 37,
   "metadata": {},
   "outputs": [],
   "source": [
    "# Define discriminator/Generator training function\n",
    "\n",
    "def train_discriminator(optimizer,real_data, fake_data):\n",
    "    N = real_data.size(0)\n",
    "    optimizer.zero_grad()\n",
    "    \n",
    "    # Train on Real data\n",
    "    \n",
    "    predict_real = discriminator(real_data)\n",
    "    loss_real = loss(predict_real,Variable(torch.ones(N, 1)))\n",
    "    loss_real.backward()\n",
    "    \n",
    "    # Train on Fake data\n",
    "    \n",
    "    predict_fake = discriminator(fake_data)\n",
    "    loss_fake = loss(predict_fake,Variable(torch.zeros(N, 1)))\n",
    "    loss_fake.backward()\n",
    "    \n",
    "    optimizer.step()\n",
    "    \n",
    "    return loss_real + loss_fake, predict_real, predict_fake"
   ]
  },
  {
   "cell_type": "code",
   "execution_count": 39,
   "metadata": {},
   "outputs": [],
   "source": [
    "def train_generator(optimizer, fake_data):\n",
    "    \n",
    "    N = fake_data.size(0)\n",
    "    optimizer.zero_grad()\n",
    "    \n",
    "    # generate fake data\n",
    "    predict = discriminator(fake_data)\n",
    "    loss_g = loss(predict, Variable(torch.ones(N, 1)))\n",
    "    loss_g.backward()\n",
    "    \n",
    "    optimizer.step()\n",
    "    \n",
    "    return loss_g"
   ]
  },
  {
   "cell_type": "code",
   "execution_count": 40,
   "metadata": {},
   "outputs": [],
   "source": [
    "# Load data\n",
    "data = gen_data()\n",
    "# Creat loader to iterate\n",
    "# Batch size = 100\n",
    "data_loader = torch.utils.data.DataLoader(data, batch_size=100,shuffle = True)\n",
    "n_batches = len(data_loader)\n",
    "discriminator = Discriminator()\n",
    "generator = Generator()\n",
    "\n",
    "# Use ADAM as optimizer\n",
    "\n",
    "d_opt = optim.Adam(discriminator.parameters(),lr = 0.0005)\n",
    "g_opt = optim.Adam(generator.parameters(),lr = 0.0005)\n",
    "\n",
    "# Use BCE loss\n",
    "loss = nn.BCELoss()"
   ]
  },
  {
   "cell_type": "code",
   "execution_count": null,
   "metadata": {
    "scrolled": true
   },
   "outputs": [],
   "source": [
    "n_epochs = 50\n",
    "num_test_samples = 16\n",
    "test_noise = noise(num_test_samples)\n",
    "d_losses = []\n",
    "g_losses = []\n",
    "images = []\n",
    "\n",
    "for epoch in range(n_epochs):\n",
    "    dloss = 0.0\n",
    "    gloss = 0.0\n",
    "    \n",
    "    for n_batch, (real_batch,_) in enumerate(data_loader):\n",
    "        N = real_batch.size(0)\n",
    "        \n",
    "        # Train discriminator\n",
    "        # Real data\n",
    "        real_data = Variable(image_to_vector(real_batch))\n",
    "        \n",
    "        # Generate fake data\n",
    "        fake_data = generator(noise(N)).detach()\n",
    "        \n",
    "        \n",
    "        d_loss, d_pred_real, d_pred_fake = train_discriminator(d_opt, real_data, fake_data)\n",
    "        \n",
    "        # Train generator\n",
    "        # generate fake data\n",
    "        fake_data = generator(noise(N))\n",
    "        \n",
    "        g_loss = train_generator(g_opt, fake_data)\n",
    "        \n",
    "        dloss += d_loss\n",
    "        gloss += g_loss\n",
    "        \n",
    "        if (epoch) % 10 == 0: \n",
    "            test_images = vector_to_image(generator(test_noise))\n",
    "            test_images = test_images.data\n",
    "    \n",
    "    \n",
    "    print(\"An epoch is finished!\")\n",
    "    \n",
    "    if (epoch) % 10 == 0:\n",
    "        images.append(test_images)\n",
    "    \n",
    "    d_losses.append(dloss/len(data_loader))\n",
    "    g_losses.append(gloss/len(data_loader))\n",
    "        "
   ]
  },
  {
   "cell_type": "code",
   "execution_count": 53,
   "metadata": {},
   "outputs": [
    {
     "data": {
      "image/png": "[encoded data removed]",
      "text/plain": [
       "<Figure size 432x288 with 1 Axes>"
      ]
     },
     "metadata": {},
     "output_type": "display_data"
    }
   ],
   "source": [
    "plt.plot(d_losses)\n",
    "plt.xlabel('epoch')\n",
    "plt.ylabel('loss')\n",
    "plt.savefig('disloss.png')"
   ]
  },
  {
   "cell_type": "code",
   "execution_count": 55,
   "metadata": {},
   "outputs": [
    {
     "data": {
      "image/png": "[encoded data removed]",
      "text/plain": [
       "<Figure size 432x288 with 1 Axes>"
      ]
     },
     "metadata": {},
     "output_type": "display_data"
    }
   ],
   "source": [
    "plt.plot(g_losses)\n",
    "plt.xlabel('epoch')\n",
    "plt.ylabel('loss')\n",
    "plt.savefig('genloss.png')"
   ]
  },
  {
   "cell_type": "code",
   "execution_count": 61,
   "metadata": {},
   "outputs": [
    {
     "data": {
      "image/png": "[encoded data removed]",
      "text/plain": [
       "<Figure size 432x288 with 16 Axes>"
      ]
     },
     "metadata": {},
     "output_type": "display_data"
    }
   ],
   "source": [
    "fig, axes = plt.subplots(nrows=4, ncols=4, sharex=True, sharey=True)\n",
    "\n",
    "for noisy_imgs, row in zip(images, axes):\n",
    "    for img, ax in zip(noisy_imgs, row):\n",
    "        ax.imshow(img.reshape(28,28), cmap='gray')\n",
    "        ax.get_xaxis().set_visible(False)\n",
    "        ax.get_yaxis().set_visible(False)\n",
    "plt.savefig('GAN.png')"
   ]
  }
 ],
 "metadata": {
  "kernelspec": {
   "display_name": "Python 3",
   "language": "python",
   "name": "python3"
  },
  "language_info": {
   "codemirror_mode": {
    "name": "ipython",
    "version": 3
   },
   "file_extension": ".py",
   "mimetype": "text/x-python",
   "name": "python",
   "nbconvert_exporter": "python",
   "pygments_lexer": "ipython3",
   "version": "3.6.5"
  }
 },
 "nbformat": 4,
 "nbformat_minor": 2
}
