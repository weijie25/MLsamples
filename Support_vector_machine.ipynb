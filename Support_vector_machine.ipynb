{
 "cells": [
  {
   "cell_type": "markdown",
   "metadata": {},
   "source": [
    "### Support Vector Machine"
   ]
  },
  {
   "cell_type": "markdown",
   "metadata": {},
   "source": [
    "#### Soft Margin SVm\n",
    "The optimization problem\n",
    "$$\\underset{\\mathbf{w}}{min} \\dfrac{1}{2} \\| \\mathbf{w}\\|^2_2 + C \\sum_{i=1}^n \\xi_i$$\n",
    "s.t. $\\forall i$: $y_i(\\mathbf{w}^Tx_i) \\geq 1-\\xi_i$, equivalently, $1-\\xi_i-y_i\\mathbf{w}^T x_i \\leq 0$, and $\\forall i$: $\\xi_i > 0$ \n",
    "<br>\n",
    "$\\xi_i$ is slack variable"
   ]
  },
  {
   "cell_type": "markdown",
   "metadata": {},
   "source": [
    "The Lagrangian is\n",
    "$$L(w,\\xi,\\lambda,\\alpha) = \\dfrac{1}{2} \\|w\\|^2_2 + C \\sum_{i=1}^n \\xi_i + \\sum_{i=1}^n \\lambda_i (1-\\xi_i-y_iw^T x_i)-\\sum_{i=1}^n \\alpha_i \\xi_i$$"
   ]
  },
  {
   "cell_type": "code",
   "execution_count": 1,
   "metadata": {},
   "outputs": [],
   "source": [
    "import numpy as np\n",
    "import pandas as pd\n",
    "from matplotlib import pyplot as plt\n",
    "import cvxopt"
   ]
  },
  {
   "cell_type": "code",
   "execution_count": 2,
   "metadata": {},
   "outputs": [],
   "source": [
    "def get_train_valid(df_splitted,i,k):\n",
    "    \n",
    "    df_valid = df_splitted[i]\n",
    "    df_train = [df_splitted[x] for x in range(k) if x!= i]\n",
    "    df_train = pd.concat(df_train)\n",
    "    \n",
    "    X_valid, y_valid = df_valid.iloc[:,0:2], df_valid.iloc[:,2]\n",
    "    X_train, y_train = df_train.iloc[:,0:2], df_train.iloc[:,2]\n",
    "    \n",
    "    return X_valid, y_valid, X_train, y_train"
   ]
  },
  {
   "cell_type": "code",
   "execution_count": 3,
   "metadata": {},
   "outputs": [],
   "source": [
    "def svmfit(X_train,Y_train,C):\n",
    "    \n",
    "    X_train = np.array(X_train)\n",
    "    Y_train = np.array(Y_train)\n",
    "    \n",
    "    m,n = X_train.shape\n",
    "    \n",
    "    # Convert data to match the solver's API\n",
    "    Y_train = Y_train.reshape(-1,1)\n",
    "    X_tilde = Y_train * X_train \n",
    "    H = np.dot(X_tilde, X_tilde.T)\n",
    "    \n",
    "    # Convert to cvxopt format\n",
    "    P = cvxopt.matrix(H)\n",
    "    q = cvxopt.matrix(-np.ones((m,1)))\n",
    "    G = cvxopt.matrix(np.vstack((np.eye(m)*-1,np.eye(m))))\n",
    "    h = cvxopt.matrix(np.hstack((np.zeros(m),np.ones(m)*C)))\n",
    "    A = cvxopt.matrix(Y_train.reshape(1,-1))\n",
    "    b = cvxopt.matrix(np.zeros(1))\n",
    "    \n",
    "    # Run solver and get estimate of lambdas\n",
    "    sol = cvxopt.solvers.qp(P,q,G,h,A,b)\n",
    "    lambdas = np.array(sol['x'])\n",
    "    \n",
    "    # Compute the parameters\n",
    "    w = ((Y_train * lambdas).T @ X_train).reshape(-1,1)\n",
    "    S = (lambdas>1e-4).flatten()\n",
    "    b0 = Y_train[S] - np.dot(X_train[S],w) # Intercept\n",
    "    \n",
    "    return w,b0"
   ]
  },
  {
   "cell_type": "code",
   "execution_count": 12,
   "metadata": {},
   "outputs": [],
   "source": [
    "def predict(w,b0,X):\n",
    "    \n",
    "    y_hat = X @ w\n",
    "    y_sign = (y_hat>0)*1\n",
    "    neg = y_sign == 0\n",
    "    y_sign[neg] = -1\n",
    "    \n",
    "    return y_sign"
   ]
  },
  {
   "cell_type": "code",
   "execution_count": 13,
   "metadata": {},
   "outputs": [
    {
     "data": {
      "image/png": "[encoded data removed]",
      "text/plain": [
       "<Figure size 432x288 with 1 Axes>"
      ]
     },
     "metadata": {},
     "output_type": "display_data"
    }
   ],
   "source": [
    "\"\"\"\n",
    "Integrage the above functions\n",
    "\n",
    "Load and pre-processing the data\n",
    "\n",
    "\"\"\"\n",
    "\n",
    "if __name__ == '__main__':\n",
    "    # Load data\n",
    "    df = pd.read_csv(\"hw2data.csv\",header=None)\n",
    "    df.columns = ['x1','x2','y']\n",
    "    n,p = df.shape\n",
    "\n",
    "    # Visualize the data\n",
    "\n",
    "    plt.scatter(df[df['y'] == -1.0]['x1'],df[df['y'] == -1.0]['x2'], label=\"-1\",color = 'blue')\n",
    "    plt.scatter(df[df['y'] == 1.0]['x1'],df[df['y'] == 1.0]['x2'], label=\"1\", color = 'yellow')\n",
    "    plt.legend()\n",
    "    plt.title(\"Visualize the data\")\n",
    "    plt.savefig(\"h2_svm_data\")\n",
    "    # Partition the data into training and testing sets\n",
    "\n",
    "    # Training: first 80%; Testing: last 20%\n",
    "    df_train = df.iloc[0:int(0.8*n),:]\n",
    "    df_test = df.iloc[-int(0.2*n):,:]"
   ]
  },
  {
   "cell_type": "code",
   "execution_count": null,
   "metadata": {},
   "outputs": [],
   "source": [
    "\"\"\"Use training data to perform k=10-fold cross validation\"\"\"\n",
    "\"\"\"Training\"\"\"\n",
    "if __name__ == '__main__':\n",
    "    # Random shuffle and split data\n",
    "    np.random.seed(1)\n",
    "    df_train = df_train.sample(frac=1)\n",
    "    k = 10\n",
    "    df_splitted = np.split(df_train,k,axis = 0)\n",
    "\n",
    "    Err_train = []\n",
    "    Err_valid = []\n",
    "\n",
    "    C = [0.0001, 0.001, 0.01, 0.1, 1, 10, 100, 1000] \n",
    "\n",
    "    for c in C:\n",
    "        err_train = []\n",
    "        err_valid = []\n",
    "\n",
    "        for i in range(k):\n",
    "            X_valid, y_valid, X_train, y_train = get_train_valid(df_splitted, i, k)\n",
    "\n",
    "            # Train model\n",
    "            w,b0 = svmfit(X_train=X_train,Y_train=y_train,C=c)\n",
    "\n",
    "            # get train and valid error\n",
    "            y_predict_train = predict(w=w,b0=b0,X=X_train)\n",
    "            err = np.sum((np.array(y_train).reshape(-1,1) != y_predict_train)*1)\n",
    "            err_train.append(err/len(y_predict_train))\n",
    "\n",
    "            y_predict_valid = predict(w=w,b0=b0,X=X_valid)\n",
    "            err = np.sum((np.array(y_valid).reshape(-1,1) != y_predict_valid)*1)\n",
    "            err_valid.append(err/len(y_predict_valid))\n",
    "\n",
    "        Err_train.append(np.average(err_train))\n",
    "        Err_valid.append(np.average(err_valid))"
   ]
  },
  {
   "cell_type": "code",
   "execution_count": null,
   "metadata": {},
   "outputs": [],
   "source": [
    "\"\"\"Testing\"\"\"\n",
    "if __name__ == '__main__':\n",
    "    X_test, y_test = df_test.iloc[:,0:2], df_test.iloc[:,2]\n",
    "\n",
    "    Err_test = []\n",
    "    for c in C:\n",
    "        w_test, b0_test = svmfit(X_train=X_test,Y_train=y_test,C=c)\n",
    "        y_predict_test = predict(w=w_test, b0=b0_test,X = X_test)\n",
    "        err_test = np.sum(np.array(y_test).reshape(-1,1) == y_predict_test) * 1\n",
    "        Err_test.append(err_test/len(y_predict_test))"
   ]
  },
  {
   "cell_type": "code",
   "execution_count": 25,
   "metadata": {},
   "outputs": [
    {
     "data": {
      "image/png": "[encoded data removed]",
      "text/plain": [
       "<Figure size 432x288 with 1 Axes>"
      ]
     },
     "metadata": {},
     "output_type": "display_data"
    }
   ],
   "source": [
    "\"\"\"Plotting errors w.r.t. values of C\"\"\"\n",
    "if __name__ == '__main__':\n",
    "    # Scaling the errors into one level\n",
    "    #Err_train1 = [Err_train[i]/9 for i in range(len(Err_train))]\n",
    "    #Err_test1 = [Err_test[i]/(400/160) for i in range(len(Err_test))]\n",
    "    \n",
    "    \n",
    "    \n",
    "    plt.plot(C,Err_valid,label='valid')\n",
    "    plt.plot(C,Err_train,label='train')\n",
    "    plt.plot(C,Err_test,label='test')\n",
    "    plt.legend()\n",
    "    plt.title(\"Errors vs C's\")\n",
    "    plt.savefig(\"h2_svm_errors\")"
   ]
  }
 ],
 "metadata": {
  "kernelspec": {
   "display_name": "Python 3",
   "language": "python",
   "name": "python3"
  },
  "language_info": {
   "codemirror_mode": {
    "name": "ipython",
    "version": 3
   },
   "file_extension": ".py",
   "mimetype": "text/x-python",
   "name": "python",
   "nbconvert_exporter": "python",
   "pygments_lexer": "ipython3",
   "version": "3.6.5"
  }
 },
 "nbformat": 4,
 "nbformat_minor": 2
}
